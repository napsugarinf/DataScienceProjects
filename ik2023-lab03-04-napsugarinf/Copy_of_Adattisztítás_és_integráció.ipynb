{
  "nbformat": 4,
  "nbformat_minor": 0,
  "metadata": {
    "kernelspec": {
      "display_name": "Python 3",
      "language": "python",
      "name": "python3"
    },
    "language_info": {
      "codemirror_mode": {
        "name": "ipython",
        "version": 3
      },
      "file_extension": ".py",
      "mimetype": "text/x-python",
      "name": "python",
      "nbconvert_exporter": "python",
      "pygments_lexer": "ipython3",
      "version": "3.6.4"
    },
    "colab": {
      "provenance": [],
      "include_colab_link": true
    }
  },
  "cells": [
    {
      "cell_type": "markdown",
      "metadata": {
        "id": "view-in-github",
        "colab_type": "text"
      },
      "source": [
        "<a href=\"https://colab.research.google.com/github/IK2023-info/ik2023-lab03-04-napsugarinf/blob/main/Copy_of_Adattiszt%C3%ADt%C3%A1s_%C3%A9s_integr%C3%A1ci%C3%B3.ipynb\" target=\"_parent\"><img src=\"https://colab.research.google.com/assets/colab-badge.svg\" alt=\"Open In Colab\"/></a>"
      ]
    },
    {
      "cell_type": "markdown",
      "source": [
        "# Adattisztítás és integráció"
      ],
      "metadata": {
        "id": "Z05V_ZhOqxws"
      }
    },
    {
      "cell_type": "markdown",
      "metadata": {
        "id": "0fry44sT_rAb"
      },
      "source": [
        "A valós adathalmazok gyakran zajosak, hiányosak, avagy éppen redundáns információt vagy duplikátum egyedeket tartalmaznak. Ezért a tudásfeltárás folyamatában az adattisztítás és adatintegrálással kezdődik.\n",
        "\n",
        "Az adattisztítás szerepe javítani az adatok minőségén azáltal, hogy kiszűri és eltávolítja az adatokban fellépő hibákat és inkonzisztenciákat.\n",
        "\n",
        "Az [adattisztítás](https://hu.wikipedia.org/wiki/Adattiszt%C3%ADtás) során:\n",
        "\"\n",
        "- felmérjük a hibákat\n",
        "\t- ellenőrizzük az adatfájl szerkezeti épségét\n",
        "\t- a zajt, felesleges információt tartalmazó mezőket javítjuk\n",
        "\t- felmérjük a hiányzó értékeket és amennyiben lehet ezeket pótoljuk\n",
        "\t- felmérjük az adatközlési és adatbeviteli hibákat\n",
        "\t\t- megvizsgáljuk az egyes változók eloszlását\n",
        "\t\t\t- az eloszlások szélein elhelyezkedő extrém értékeket ellenőrizzük\n",
        "\t\t\t- felmérjük, hogy az eloszlások megfelelnek-e az előzetes elvárásainknak, vannak-e nem várt sűrűsödések, ritkulások egyes értéktartományokban (például durva kerekítés vagy eltérő mértékegység használata az adatszolgáltatók egy részénél)\n",
        "\t\t-  megvizsgáljuk, hogy a változók közötti triviális összefüggések teljesülnek-e\n",
        "-  a hibásnak tűnő adatokat felülvizsgáljuk, javítjuk \n",
        "\".\n"
      ]
    },
    {
      "cell_type": "markdown",
      "source": [
        "# Feladatok"
      ],
      "metadata": {
        "id": "a7og0Ax_quMN"
      }
    },
    {
      "cell_type": "markdown",
      "metadata": {
        "id": "F2DOJGqVtF9I"
      },
      "source": [
        "1. Az `egyetemek.txt` fájlból szűrjük ki az államokat és azon belül a városokat, melyben egyetemek találhatóak. Ha vannak duplikátumok, helytelen adatok (pl. számokat tartalmazó államnév), ezeket javítsuk. Vizsgáljuk meg az egyetemek eloszlását államok szerint. Melyik államban van a legtöbb, legkevesebb egyetem?\n"
      ]
    },
    {
      "cell_type": "code",
      "source": [
        "from google.colab import drive\n",
        "import pandas as pd\n",
        "import re\n",
        "drive.mount('/content/drive', 'force_remount=True')"
      ],
      "metadata": {
        "colab": {
          "base_uri": "https://localhost:8080/"
        },
        "id": "mkn3K4NGatCb",
        "outputId": "4c8471ac-1a1d-4890-de45-5b63a2498f13"
      },
      "execution_count": 55,
      "outputs": [
        {
          "output_type": "stream",
          "name": "stdout",
          "text": [
            "Mounted at /content/drive\n"
          ]
        }
      ]
    },
    {
      "cell_type": "code",
      "source": [
        "with open('/content/drive/My Drive/egyetemek.txt', 'r') as f:\n",
        "    lines = f.readlines()"
      ],
      "metadata": {
        "id": "NcaZHz14cN7X"
      },
      "execution_count": 56,
      "outputs": []
    },
    {
      "cell_type": "code",
      "source": [
        "lines = [line.rstrip() for line in lines]"
      ],
      "metadata": {
        "id": "QdlVg2ZKcQuf"
      },
      "execution_count": 57,
      "outputs": []
    },
    {
      "cell_type": "code",
      "source": [
        "universities = []\n",
        "state = ''\n",
        "for line in lines:\n",
        "  if line.endswith('[edit]'):\n",
        "    state = line[0:-1].strip('[edit')\n",
        "    #print(state)\n",
        "  else:\n",
        "    #if line.endswith('')\n",
        "    res= line.split(' (')\n",
        "    city = res[0]\n",
        "    sep=res[1].split(')')\n",
        "    unilist=sep[0]\n",
        "    #unilist= res[1].strip(r'\\)*')\n",
        "    #print(city)\n",
        "    universities.append((unilist, city, state))\n",
        "print(universities)"
      ],
      "metadata": {
        "colab": {
          "base_uri": "https://localhost:8080/"
        },
        "id": "KXqFSo04cVxP",
        "outputId": "c16e385a-edb7-4b90-d020-99291f7ef2c9"
      },
      "execution_count": 58,
      "outputs": [
        {
          "output_type": "stream",
          "name": "stdout",
          "text": [
            "[('Auburn University', 'Auburn', 'Alabama'), ('University of North Alabama', 'Florence', 'Alabama'), ('Jacksonville State University', 'Jacksonville', 'Alabama'), ('University of West Alabama', 'Livingston', 'Alabama'), ('University of Montevallo', 'Montevallo', 'Alabama'), ('Troy University', 'Troy', 'Alabama'), ('University of Alabama, Stillman College, Shelton State', 'Tuscaloosa', 'Alabama'), ('Tuskegee University', 'Tuskegee', 'Alabama'), ('University of Alaska Fairbanks', 'Fairbanks', 'Alaska'), ('Northern Arizona University', 'Flagstaff', 'Arizona'), ('Arizona State University', 'Tempe', 'Arizona'), ('University of Arizona', 'Tucson', 'Arizona'), ('Henderson State University, Ouachita Baptist University', 'Arkadelphia', 'Arkansas'), ('Central Baptist College, Hendrix College, University of Central Arkansas', 'Conway', 'Arkansas'), ('University of Arkansas', 'Fayetteville', 'Arkansas'), ('Arkansas State University', 'Jonesboro', 'Arkansas'), ('Southern Arkansas University', 'Magnolia', 'Arkansas'), ('University of Arkansas at Monticello', 'Monticello', 'Arkansas'), ('Arkansas Tech University', 'Russellville', 'Arkansas'), ('Harding University', 'Searcy', 'Arkansas'), ('Pacific Union College', 'Angwin', 'California'), ('Humboldt State University', 'Arcata', 'California'), ('University of California, Berkeley', 'Berkeley', 'California'), ('California State University, Chico', 'Chico', 'California'), ('Claremont McKenna College, Pomona College, Harvey Mudd College, Scripps College, Pitzer College, Keck Graduate Institute, Claremont Graduate University', 'Claremont', 'California'), ('California State University, Sonoma', 'Cotati', 'California'), ('University of California, Davis', 'Davis', 'California'), ('University of California, Irvine', 'Irvine', 'California'), ('University of California, Santa Barbara', 'Isla Vista', 'California'), ('University of Southern California', 'University Park, Los Angeles', 'California'), ('University of California, Merced', 'Merced', 'California'), ('Chapman University', 'Orange', 'California'), ('Stanford University', 'Palo Alto', 'California'), ('Cal Poly Pomona, WesternU', 'Pomona', 'California'), ('California, Davis', 'Davis', 'California'), ('University of Redlands', 'Redlands', 'California'), ('University of California, Riverside, California Baptist University, La Sierra University', 'Riverside', 'California'), ('California State University, Sacramento', 'Sacramento', 'California'), ('California State University, San Bernardino, American Sports University', 'University District, San Bernardino', 'California'), ('University of California, San Diego, San Diego State University', 'San Diego', 'California'), ('California Polytechnic State University', 'San Luis Obispo', 'California'), ('Fielding Graduate University, Santa Barbara City College, University of California, Santa Barbara, Westmont College', 'Santa Barbara', 'California'), ('University of California, Santa Cruz', 'Santa Cruz', 'California'), ('California State University, Stanislaus', 'Turlock', 'California'), ('University of California, Los Angeles', 'Westwood, Los Angeles', 'California'), ('Whittier CollegeRio Hondo College', 'Whittier', 'California'), ('Adams State College', 'Alamosa', 'Colorado'), ('University of Colorado at Boulder', 'Boulder', 'Colorado'), ('Fort Lewis College', 'Durango', 'Colorado'), ('Colorado State University', 'Fort Collins', 'Colorado'), ('Colorado School of Mines', 'Golden', 'Colorado'), ('Colorado Mesa University', 'Grand Junction', 'Colorado'), ('University of Northern Colorado', 'Greeley', 'Colorado'), ('Western State College', 'Gunnison', 'Colorado'), ('Colorado State University-Pueblo', 'Pueblo, Colorado', 'Colorado'), ('Fairfield University, Sacred Heart University', 'Fairfield', 'Connecticu'), ('Wesleyan University', 'Middletown', 'Connecticu'), ('Central Connecticut State University', 'New Britain', 'Connecticu'), ('Yale University, University of New Haven, Southern Connecticut State University, Albertus Magnus College, Quinnipiac University', 'New Haven', 'Connecticu'), ('Connecticut College, US Coast Guard Academy, Mitchell College', 'New London', 'Connecticu'), ('University of Connecticut', 'Storrs', 'Connecticu'), ('Eastern Connecticut State University', 'Willimantic', 'Connecticu'), ('Delaware State University', 'Dover', 'Delawar'), ('University of Delaware', 'Newark', 'Delawar'), ('Ave Maria University', 'Ave Maria', 'Florida'), ('Florida Atlantic University', 'Boca Raton', 'Florida'), ('University of Miami', 'Coral Gables', 'Florida'), ('Stetson University', 'DeLand', 'Florida'), ('Florida Gulf Coast University', 'Estero', 'Florida'), ('University of Florida, Santa Fe College', 'Gainesville', 'Florida'), ('University of Central Florida', 'Orlando', 'Florida'), ('New College of Florida, Ringling College of Art and Design, State College of Florida, Manatee-Sarasota, University of South Florida Sarasota-Manatee', 'Sarasota', 'Florida'), ('Flagler College', 'St. Augustine', 'Florida'), ('St. Leo University', 'St. Leo', 'Florida'), ('Florida State University, Florida A&M University', 'Tallahassee', 'Florida'), ('University of South Florida', 'Tampa', 'Florida'), ('Albany State University', 'Albany', 'Georgia'), ('University of Georgia', 'Athens', 'Georgia'), ('Georgia State University, Georgia Tech, Emory', 'Atlanta', 'Georgia'), ('University of West Georgia', 'Carrollton', 'Georgia'), ('Piedmont College', 'Demorest', 'Georgia'), ('Fort Valley State University', 'Fort Valley', 'Georgia'), ('Kennesaw State University', 'Kennesaw', 'Georgia'), ('Georgia College & State University', 'Milledgeville', 'Georgia'), ('Brewton-Parker College', 'Mount Vernon', 'Georgia'), ('Oxford College', 'Oxford', 'Georgia'), ('Berry College, Shorter University', 'Rome', 'Georgia'), ('Armstrong Atlantic State University, Savannah State University, Savannah College of Art and Design', 'Savannah', 'Georgia'), ('Georgia Southern University', 'Statesboro', 'Georgia'), ('Valdosta State University', 'Valdosta', 'Georgia'), ('Reinhardt College', 'Waleska', 'Georgia'), ('Young Harris College', 'Young Harris', 'Georgia'), ('University of Hawaii at Manoa', 'Manoa', 'Hawa'), ('University of Idaho', 'Moscow', 'Idaho'), ('Idaho State University', 'Pocatello', 'Idaho'), ('BYU-Idaho', 'Rexburg', 'Idaho'), ('Southern Illinois University Carbondale', 'Carbondale', 'Illinois'), ('University of Illinois at Urbana–Champaign', 'Champaign–Urbana', 'Illinois'), ('Eastern Illinois University', 'Charleston', 'Illinois'), ('Northern Illinois University', 'DeKalb', 'Illinois'), ('Southern Illinois University Edwardsville', 'Edwardsville', 'Illinois'), ('Northwestern University', 'Evanston', 'Illinois'), ('McKendree University', 'Lebanon', 'Illinois'), ('Western Illinois University', 'Macomb', 'Illinois'), ('Illinois State University', 'Normal', 'Illinois'), ('Bradley University', 'Peoria', 'Illinois'), ('Indiana University Bloomington', 'Bloomington', 'Indiana'), ('Wabash College', 'Crawfordsville', 'Indiana'), ('DePauw University', 'Greencastle', 'Indiana'), ('Hanover College', 'Hanover', 'Indiana'), ('Indiana Wesleyan University', 'Marion', 'Indiana'), ('Ball State University', 'Muncie', 'Indiana'), ('Oakland City University', 'Oakland City', 'Indiana'), ('Earlham College', 'Richmond', 'Indiana'), ('Notre Dame University[2]', 'South Bend', 'Indiana'), ('Indiana State University, Rose-Hulman Institute of Technology', 'Terre Haute', 'Indiana'), ('Taylor University', 'Upland', 'Indiana'), ('Valparaiso University', 'Valparaiso', 'Indiana'), ('Purdue University', 'West Lafayette', 'Indiana'), ('Iowa State University', 'Ames', 'Iowa'), ('University of Northern Iowa', 'Cedar Falls', 'Iowa'), ('Coe College ', 'Cedar Rapids, Iowa', 'Iowa'), ('Luther College', 'Decorah', 'Iowa'), ('Upper Iowa University', 'Fayette', 'Iowa'), ('Grinnell College', 'Grinnell', 'Iowa'), ('University of Iowa', 'Iowa City', 'Iowa'), ('Graceland University', 'Lamoni', 'Iowa'), ('Cornell College', 'Mount Vernon,', 'Iowa'), ('Northwestern College', 'Orange City', 'Iowa'), ('Dordt College', 'Sioux Center', 'Iowa'), ('Buena Vista University', 'Storm Lake', 'Iowa'), ('Wartburg College', 'Waverly', 'Iowa'), ('Baker University', 'Baldwin City', 'Kansas'), ('Emporia State University', 'Emporia', 'Kansas'), ('Fort Hays State University', 'Hays', 'Kansas'), ('University of Kansas, Haskell Indian Nations University', 'Lawrence', 'Kansas'), ('Kansas State University, Manhattan Christian College', 'Manhattan', 'Kansas'), ('Pittsburg State University', 'Pittsburg', 'Kansas'), ('Western Kentucky University', 'Bowling Green', 'Kentucky'), ('Lindsey Wilson College', 'Columbia', 'Kentucky'), ('Georgetown College', 'Georgetown', 'Kentucky'), ('Northern Kentucky University', 'Highland Heights', 'Kentucky'), ('University of Kentucky, Transylvania University[5]', 'Lexington', 'Kentucky'), ('University of Louisville', 'Louisville', 'Kentucky'), ('Morehead State University', 'Morehead', 'Kentucky'), ('Murray State University', 'Murray', 'Kentucky'), ('Eastern Kentucky University', 'Richmond', 'Kentucky'), ('University of the Cumberlands', 'Williamsburg', 'Kentucky'), ('Asbury University, Asbury Theological Seminary', 'Wilmore', 'Kentucky'), ('Louisiana State University, Southern University', 'Baton Rouge', 'Louisiana'), ('Grambling State University', 'Grambling', 'Louisiana'), ('Southeastern Louisiana University', 'Hammond', 'Louisiana'), ('University of Louisiana at Lafayette', 'Lafayette', 'Louisiana'), ('University of Louisiana at Monroe', 'Monroe', 'Louisiana'), ('Northwestern State University', 'Natchitoches', 'Louisiana'), ('Louisiana Tech University', 'Ruston', 'Louisiana'), ('Nicholls State University', 'Thibodaux', 'Louisiana'), ('University of Maine at Augusta', 'Augusta', 'Main'), ('College of the Atlantic', 'Bar Harbor', 'Main'), ('Bowdoin College', 'Brunswick', 'Main'), ('University of Maine at Farmington', 'Farmington', 'Main'), ('University of Maine at Fort Kent', 'Fort Kent', 'Main'), ('University of Southern Maine', 'Gorham', 'Main'), ('Bates College', 'Lewiston, Maine', 'Main'), ('University of Maine', 'Orono', 'Main'), ('Thomas College, Colby College', 'Waterville', 'Main'), (\"United States Naval Academy, St. John's College\", 'Annapolis', 'Marylan'), ('Washington College', 'Chestertown', 'Marylan'), ('University of Maryland, College Park', 'College Park', 'Marylan'), ('Allegany College of Maryland', 'Cumberland', 'Marylan'), (\"Mount St. Mary's University\", 'Emmitsburg', 'Marylan'), ('Frostburg State University', 'Frostburg', 'Marylan'), ('University of Maryland Eastern Shore', 'Princess Anne', 'Marylan'), ('Towson University, Goucher College', 'Towson', 'Marylan'), ('Salisbury University', 'Salisbury', 'Marylan'), ('McDaniel College', 'Westminster', 'Marylan'), ('Boston University, Boston College, Boston Conservatory, New England Conservatory, Brandeis University, Northeastern University, UMass Boston, Emmanuel College, Bunker Hill Community College, Roxbury Community College, Suffolk University, Simmons College, among many others', 'Boston', 'Massachusetts'), ('Bridgewater State College', 'Bridgewater', 'Massachusetts'), ('Harvard University, Massachusetts Institute of Technology', 'Cambridge', 'Massachusetts'), ('Boston College', 'Chestnut Hill', 'Massachusetts'), ('Nichols College', 'Dudley', 'Massachusetts'), ('Cummings School of Veterinary Medicine at Tufts University', 'North Grafton', 'Massachusetts'), ('Anna Maria College', 'Paxton', 'Massachusetts'), ('Assumption, Becker, Clark University, Holy Cross, Mass. College of Pharmacy & Health Sciences, Quinsigamond Community College, UMass Medical School, Worcester State University, Worcester Polytechnic Institute', 'Worcester', 'Massachusetts'), ('Amherst College, Hampshire College, University of Massachusetts Amherst', 'Amherst', 'Massachusetts'), ('Smith College', 'Northampton', 'Massachusetts'), ('Mount Holyoke College', 'South Hadley', 'Massachusetts'), ('Fitchburg State College', 'Fitchburg', 'Massachusetts'), ('Massachusetts College of Liberal Arts', 'North Adams', 'Massachusetts'), ('American International College', 'Springfield', 'Massachusetts'), ('Bentley University', 'Waltham', 'Massachusetts'), ('Williams College', 'Williamstown', 'Massachusetts'), ('Framingham State University', 'Framingham', 'Massachusetts'), ('Adrian College, Siena Heights University', 'Adrian', 'Michigan'), ('Albion College', 'Albion', 'Michigan'), ('Grand Valley State University', 'Allendale', 'Michigan'), ('Alma College', 'Alma', 'Michigan'), ('University of Michigan', 'Ann Arbor', 'Michigan'), ('Andrews University', 'Berrien Springs', 'Michigan'), ('Ferris State University', 'Big Rapids', 'Michigan'), ('Michigan State University', 'East Lansing', 'Michigan'), ('Kettering University, University of Michigan-Flint', 'Flint', 'Michigan'), ('Hillsdale College', 'Hillsdale', 'Michigan'), ('Michigan Technological University', 'Houghton', 'Michigan'), ('Western Michigan University, Kalamazoo College', 'Kalamazoo', 'Michigan'), ('Northern Michigan University', 'Marquette', 'Michigan'), ('Northwood University', 'Midland', 'Michigan'), ('Central Michigan University', 'Mount Pleasant', 'Michigan'), ('Olivet College', 'Olivet', 'Michigan'), ('Saginaw Valley State University', 'Saginaw', 'Michigan'), ('Lake Superior State University', 'Sault Ste. Marie', 'Michigan'), ('Spring Arbor University', 'Spring Arbor', 'Michigan'), ('Eastern Michigan University', 'Ypsilanti', 'Michigan'), ('Bemidji State University', 'Bemidji', 'Minnesota'), ('University of Minnesota Crookston', 'Crookston', 'Minnesota'), ('University of Minnesota Duluth, Lake Superior College, The College of St. Scholastica, University of Wisconsin–Superior, Duluth Business University,', 'Duluth', 'Minnesota'), ('South Central College', 'Faribault ', 'Minnesota'), ('Minnesota State University, Mankato', 'Mankato', 'Minnesota'), ('Southwest Minnesota State University', 'Marshall', 'Minnesota'), ('Minnesota State University, Moorhead, Concordia College', 'Moorhead', 'Minnesota'), ('University of Minnesota Morris', 'Morris', 'Minnesota'), ('Carleton College, St. Olaf College', 'Northfield', 'Minnesota'), ('South Central College', 'North Mankato', 'Minnesota'), ('St. Cloud State University, The College of St. Scholastica', 'St. Cloud', 'Minnesota'), ('College of Saint Benedict', 'St. Joseph', 'Minnesota'), ('Gustavus Adolphus College', 'St. Peter', 'Minnesota'), (\"Winona State University, St. Mary's University of Minnesota\", 'Winona', 'Minnesota'), ('Delta State University', 'Cleveland', 'Mississipp'), ('University of Southern Mississippi', 'Hattiesburg', 'Mississipp'), ('Mississippi Valley State University', 'Itta Bena', 'Mississipp'), ('University of Mississippi', 'Oxford', 'Mississipp'), ('Mississippi State University', 'Starkville', 'Mississipp'), ('Southwest Baptist University', 'Bolivar', 'Missour'), ('Southeast Missouri State University', 'Cape Girardeau', 'Missour'), ('University of Missouri, Stephens College, Columbia College', 'Columbia', 'Missour'), ('Central Methodist University', 'Fayette', 'Missour'), ('Westminster College and William Woods University', 'Fulton', 'Missour'), ('Truman State University, A. T. Still University', 'Kirksville', 'Missour'), ('Northwest Missouri State University', 'Maryville', 'Missour'), ('Missouri University of Science and Technology', 'Rolla', 'Missour'), ('University of Central Missouri', 'Warrensburg', 'Missour'), ('Montana State University', 'Bozeman', 'Montana'), ('University of Montana Western', 'Dillon', 'Montana'), ('University of Montana', 'Missoula', 'Montana'), ('Chadron State College', 'Chadron', 'Nebraska'), ('Doane College', 'Crete', 'Nebraska'), ('University of Nebraska at Kearney', 'Kearney', 'Nebraska'), ('University of Nebraska at Lincoln', 'Lincoln', 'Nebraska'), ('Peru State College', 'Peru', 'Nebraska'), ('Concordia University', 'Seward', 'Nebraska'), ('Wayne State College', 'Wayne', 'Nebraska'), ('University of Nevada, Las Vegas', 'Las Vegas', 'Nevada'), ('University of Nevada, Reno', 'Reno', 'Nevada'), ('Colby-Sawyer College', 'New London, New Hampshire', 'New Hampshir'), ('University of New Hampshire', 'Durham', 'New Hampshir'), ('Dartmouth College', 'Hanover', 'New Hampshir'), ('New England College', 'Henniker', 'New Hampshir'), ('Keene State College', 'Keene', 'New Hampshir'), ('Plymouth State University', 'Plymouth', 'New Hampshir'), ('Franklin Pierce University', 'Rindge', 'New Hampshir'), ('The College of New Jersey', 'Ewing', 'New Jersey'), ('New Jersey City University', 'Jersey City', 'New Jersey'), ('Rowan University', 'Glassboro', 'New Jersey'), ('Stevens Institute of Technology', 'Hoboken', 'New Jersey'), ('Drew University', 'Madison', 'New Jersey'), ('Rutgers University', 'Newark', 'New Jersey'), ('Rutgers University', 'New Brunswick', 'New Jersey'), ('Princeton University', 'Princeton', 'New Jersey'), ('Kean University', 'Union', 'New Jersey'), ('Monmouth University', 'West Long Branch', 'New Jersey'), ('University of the Southwest', 'Hobbs', 'New Mexico'), ('New Mexico State University', 'Las Cruces', 'New Mexico'), ('New Mexico Highlands University', 'Las Vegas', 'New Mexico'), ('Eastern New Mexico University', 'Portales', 'New Mexico'), ('Western New Mexico University', 'Silver City', 'New Mexico'), ('Alfred University, Alfred State College', 'Alfred', 'New York'), ('SUNY Albany, Siena College, Albany College of Pharmacy, Albany Law School, Albany Medical College, College of Saint Rose, Excelsior College, Maria College of Albany, Mildred Elley, Sage College of Albany', 'Albany', 'New York'), ('Wells College', 'Aurora', 'New York'), ('Binghamton University', 'Binghamton', 'New York'), ('SUNY Brockport', 'Brockport', 'New York'), ('University at Buffalo', 'Buffalo', 'New York'), ('St. Lawrence University, SUNY Canton', 'Canton', 'New York'), ('Hamilton College', 'Clinton', 'New York'), ('SUNY Cobleskill', 'Cobleskill', 'New York'), ('SUNY Delhi', 'Delhi', 'New York'), ('SUNY Fredonia', 'Fredonia', 'New York'), ('SUNY Geneseo', 'Geneseo', 'New York'), ('Hobart and William Smith Colleges', 'Geneva', 'New York'), ('Colgate University', 'Hamilton', 'New York'), ('Cornell University, Ithaca College', 'Ithaca', 'New York'), ('Columbia University, Barnard College, Teachers College, Manhattan School of Music, Jewish Theological Seminary, Union Theological Seminary, Bank Street College of Education', 'Morningside Heights, Manhattan', 'New York'), ('SUNY New Paltz', 'New Paltz', 'New York'), ('SUNY Oneonta, Hartwick College', 'Oneonta', 'New York'), ('SUNY Oswego', 'Oswego', 'New York'), ('SUNY Plattsburgh', 'Plattsburgh', 'New York'), ('SUNY Potsdam, Clarkson University', 'Potsdam', 'New York'), ('Vassar College, Marist College', 'Poughkeepsie', 'New York'), ('Purchase College, Manhattanville College', 'Purchase', 'New York'), ('University of Rochester, Rochester Institute of Technology, Nazareth College, St. John Fisher College, Monroe Community College, Roberts Wesleyan College, SUNY Brockport, SUNY Empire State College', 'Rochester', 'New York'), ('Skidmore College', 'Saratoga Springs', 'New York'), ('New York Chiropractic College', 'Seneca Falls', 'New York'), ('Stony Brook University', 'Stony Brook', 'New York'), ('Syracuse University, SUNY ESF, Upstate Medical University', 'Syracuse', 'New York'), ('Bard College', 'Tivoli', 'New York'), ('Rensselaer Polytechnic Institute, Russell Sage College, Hudson Valley Community College', 'Troy', 'New York'), ('United States Military Academy', 'West Point', 'New York'), ('Lees-McRae College', 'Banner Elk', 'North Carolina'), ('Gardner-Webb University', 'Boiling Springs', 'North Carolina'), ('Appalachian State University', 'Boone', 'North Carolina'), ('Campbell University', 'Buies Creek', 'North Carolina'), ('University of North Carolina at Chapel Hill', 'Chapel Hill', 'North Carolina'), ('Western Carolina University', 'Cullowhee', 'North Carolina'), ('Davidson College', 'Davidson', 'North Carolina'), ('Duke University, North Carolina Central University', 'Durham', 'North Carolina'), ('Elon University', 'Elon', 'North Carolina'), ('University of North Carolina at Greensboro, Greensboro College, Guilford College, North Carolina A & T State University, Bennett College', 'Greensboro', 'North Carolina'), ('East Carolina University', 'Greenville', 'North Carolina'), ('Lenoir-Rhyne University', 'Hickory', 'North Carolina'), ('Mars Hill College', 'Mars Hill', 'North Carolina'), ('Mount Olive College', 'Mount Olive', 'North Carolina'), ('University of North Carolina at Pembroke', 'Pembroke', 'North Carolina'), ('University of North Carolina at Wilmington', 'Wilmington, North Carolina', 'North Carolina'), ('Wingate University', 'Wingate', 'North Carolina'), ('Wake Forest University, University of North Carolina School of the Arts, Salem College, Winston-Salem State University', 'Winston-Salem', 'North Carolina'), ('North Dakota State University', 'Fargo', 'North Dakota'), ('University of North Dakota', 'Grand Forks', 'North Dakota'), ('Ohio Northern University', 'Ada', 'Ohio'), ('University of Mount Union', 'Alliance', 'Ohio'), ('Ashland University', 'Ashland', 'Ohio'), ('Ohio University', 'Athens', 'Ohio'), ('Baldwin Wallace College', 'Berea', 'Ohio'), ('Bluffton University', 'Bluffton', 'Ohio'), ('Bowling Green State University', 'Bowling Green', 'Ohio'), ('Cedarville University', 'Cedarville', 'Ohio'), ('Ohio State University', 'Columbus', 'Ohio'), ('Ohio Wesleyan University', 'Delaware', 'Ohio'), ('Wright State University', 'Fairborn', 'Ohio'), ('University of Findlay', 'Findlay', 'Ohio'), ('Kenyon College', 'Gambier', 'Ohio'), ('Denison University', 'Granville', 'Ohio'), ('Hiram College', 'Hiram', 'Ohio'), ('Kent State University', 'Kent', 'Ohio'), ('Hocking College', 'Nelsonville', 'Ohio'), ('Muskingum College', 'New Concord', 'Ohio'), ('Oberlin College', 'Oberlin', 'Ohio'), ('Miami University', 'Oxford', 'Ohio'), ('University of Rio Grande', 'Rio Grande', 'Ohio'), ('Wilberforce University, Central State University', 'Wilberforce', 'Ohio'), ('East Central University', 'Ada', 'Oklahoma'), ('Northwestern Oklahoma State University', 'Alva', 'Oklahoma'), ('Southeastern Oklahoma State University', 'Durant', 'Oklahoma'), ('University of Central Oklahoma, Oklahoma Christian University', 'Edmond', 'Oklahoma'), ('Oklahoma Panhandle State University', 'Goodwell', 'Oklahoma'), ('Langston University', 'Langston', 'Oklahoma'), ('University of Oklahoma', 'Norman', 'Oklahoma'), ('Oklahoma State University', 'Stillwater', 'Oklahoma'), ('Northeastern State University', 'Tahlequah', 'Oklahoma'), ('The University of Tulsa', 'Tulsa', 'Oklahoma'), ('Southwestern Oklahoma State University', 'Weatherford', 'Oklahoma'), ('Southern Oregon University', 'Ashland', 'Oregon'), ('Oregon State University', 'Corvallis', 'Oregon'), ('Lane Community College, Northwest Christian University, University of Oregon', 'Eugene', 'Oregon'), ('Pacific University', 'Forest Grove', 'Oregon'), ('Klamath Community College, Oregon Institute of Technology', 'Klamath Falls', 'Oregon'), ('Eastern Oregon University', 'La Grande', 'Oregon'), ('Marylhurst University', 'Marylhurst', 'Oregon'), ('Linfield College', 'McMinnville', 'Oregon'), ('Western Oregon University', 'Monmouth', 'Oregon'), ('George Fox University', 'Newberg', 'Oregon'), ('Penn State Altoona', 'Altoona', 'Pennsylvania'), ('Lebanon Valley College', 'Annville', 'Pennsylvania'), ('Lehigh University, Moravian College', 'Bethlehem', 'Pennsylvania'), ('Bloomsburg University of Pennsylvania', 'Bloomsburg', 'Pennsylvania'), ('University of Pittsburgh at Bradford', 'Bradford', 'Pennsylvania'), ('California University of Pennsylvania', 'California', 'Pennsylvania'), ('Dickinson College', 'Carlisle', 'Pennsylvania'), ('Temple University', 'Cecil B. Moore, Philadelphia, also known as \"Templetown\"', 'Pennsylvania'), ('Clarion University of Pennsylvania', 'Clarion', 'Pennsylvania'), ('Ursinus College', 'Collegeville', 'Pennsylvania'), ('Mount Aloysius College', 'Cresson', 'Pennsylvania'), ('East Stroudsburg University of Pennsylvania', 'East Stroudsburg', 'Pennsylvania'), ('Edinboro University of Pennsylvania', 'Edinboro', 'Pennsylvania'), ('Gannon University, Mercyhurst College, Penn State Erie', 'Erie', 'Pennsylvania'), ('Gettysburg College', 'Gettysburg', 'Pennsylvania'), ('Seton Hill University, University of Pittsburgh at Greensburg', 'Greensburg', 'Pennsylvania'), ('Grove City College', 'Grove City', 'Pennsylvania'), ('Juniata College', 'Huntingdon', 'Pennsylvania'), ('Indiana University of Pennsylvania', 'Indiana', 'Pennsylvania'), ('University of Pittsburgh at Johnstown', 'Johnstown', 'Pennsylvania'), ('Kutztown University of Pennsylvania', 'Kutztown', 'Pennsylvania'), ('Franklin & Marshall', 'Lancaster', 'Pennsylvania'), ('Bucknell University', 'Lewisburg', 'Pennsylvania'), ('Lock Haven University of Pennsylvania', 'Lock Haven', 'Pennsylvania'), ('St. Francis University', 'Loretto', 'Pennsylvania'), ('Mansfield University of Pennsylvania', 'Mansfield', 'Pennsylvania'), ('Allegheny College', 'Meadville', 'Pennsylvania'), ('Penn State Mont Alto', 'Mont Alto', 'Pennsylvania'), ('Millersville University of Pennsylvania', 'Millersville', 'Pennsylvania'), ('Westminster College', 'New Wilmington', 'Pennsylvania'), ('Mercyhurst North East', 'North East', 'Pennsylvania'), ('Drexel University, University of Pennsylvania, University of the Sciences in Philadelphia', 'University City, Philadelphia', 'Pennsylvania'), ('Carnegie Mellon University, University of Pittsburgh, Carlow University', 'Oakland, Pittsburgh', 'Pennsylvania'), ('Albright College, Alvernia University, Penn State Berks', 'Reading', 'Pennsylvania'), ('Susquehanna University', 'Selinsgrove', 'Pennsylvania'), ('Shippensburg University of Pennsylvania', 'Shippensburg', 'Pennsylvania'), ('Slippery Rock University of Pennsylvania', 'Slippery Rock', 'Pennsylvania'), ('Pennsylvania State University', 'State College', 'Pennsylvania'), ('Villanova University', 'Villanova', 'Pennsylvania'), ('Waynesburg University', 'Waynesburg', 'Pennsylvania'), ('West Chester University of Pennsylvania', 'West Chester', 'Pennsylvania'), (\"King's College, Wilkes University\", 'Wilkes-Barre', 'Pennsylvania'), ('Lycoming College, Pennsylvania College of Technology', 'Williamsport', 'Pennsylvania'), ('University of Rhode Island', 'Kingston', 'Rhode Islan'), ('Brown University,', 'Providence', 'Rhode Islan'), ('Southern Wesleyan University', 'Central', 'South Carolina'), ('College of Charleston, The Citadel, MUSC', 'Charleston', 'South Carolina'), ('Clemson University', 'Clemson', 'South Carolina'), ('Presbyterian College', 'Clinton', 'South Carolina'), ('University of South Carolina', 'Columbia', 'South Carolina'), ('Erskine College', 'Due West', 'South Carolina'), ('Francis Marion University', 'Florence', 'South Carolina'), ('Lander University', 'Greenwood', 'South Carolina'), ('South Carolina State University, Claflin University', 'Orangeburg', 'South Carolina'), ('Winthrop University', 'Rock Hill', 'South Carolina'), ('Wofford College, Converse College, University of South Carolina Upstate, Spartanburg Methodist College, Edward Via College of Osteopathic Medicine, Spartanburg Community College, Virginia College, Sherman College of Chiropractic', 'Spartanburg', 'South Carolina'), ('South Dakota State University', 'Brookings', 'South Dakota'), ('Dakota State University', 'Madison', 'South Dakota'), ('Black Hills State University', 'Spearfish', 'South Dakota'), ('University of South Dakota', 'Vermillion', 'South Dakota'), ('University of Tennessee at Chattanooga', 'Chattanooga', 'Tenness'), ('Southern Adventist University', 'Collegedale', 'Tenness'), ('Tennessee Technological University', 'Cookeville', 'Tenness'), ('Lincoln Memorial University', 'Harrogate', 'Tenness'), ('Freed-Hardeman University', 'Henderson', 'Tenness'), ('East Tennessee State University', 'Johnson City', 'Tenness'), ('University of Tennessee', 'Knoxville', 'Tenness'), ('University of Tennessee at Martin', 'Martin', 'Tenness'), ('Bethel University', 'McKenzie', 'Tenness'), ('Christian Brothers University, LeMoyne-Owen College, Memphis College of Art, Memphis Theological Seminary, Rhodes College, Southern College of Optometry, Southwest Tennessee Community College, University of Memphis, University of Tennessee Health Science Center, Visible Music College', 'Memphis', 'Tenness'), ('Middle Tennessee State University', 'Murfreesboro', 'Tenness'), ('Vanderbilt University, Belmont University, Tennessee State University, Lipscomb University, Fisk University, Aquinas College, Trevecca Nazarene University', 'Nashville', 'Tenness'), ('Sewanee: the University of the South', 'Sewanee', 'Tenness'), ('Abilene Christian University, Hardin-Simmons University, McMurry University', 'Abilene', 'Texas'), ('Sul Ross State University', 'Alpine', 'Texas'), ('University of Texas at Austin, St. Edwards University, Huston-Tillotson University', 'Austin', 'Texas'), ('Lamar University', 'Beaumont', 'Texas'), ('West Texas A&M University', 'Canyon', 'Texas'), ('Texas A&M University', 'College Station', 'Texas'), ('Texas A&M University–Commerce', 'Commerce', 'Texas'), ('Southern Methodist University', 'Dallas', 'Texas'), (\"University of North Texas, Texas Woman's University\", 'Denton', 'Texas'), ('Texas Christian University, Texas Wesleyan University', 'Fort Worth', 'Texas'), ('Southwestern University', 'Georgetown', 'Texas'), ('Sam Houston State University', 'Huntsville', 'Texas'), ('University of Houston, Texas Southern University, Rice University, Houston Baptist University', 'Houston', 'Texas'), ('Southwestern Adventist University', 'Keene', 'Texas'), ('Texas A&M University–Kingsville', 'Kingsville', 'Texas'), ('Texas Tech University, Lubbock Christian University', 'Lubbock', 'Texas'), ('Stephen F. Austin State University', 'Nacogdoches', 'Texas'), ('Wayland Baptist University', 'Plainview', 'Texas'), ('Prairie View A&M University', 'Prairie View', 'Texas'), ('Texas State University', 'San Marcos', 'Texas'), ('Tarleton State University', 'Stephenville', 'Texas'), ('Baylor University', 'Waco', 'Texas'), ('Southern Utah University', 'Cedar City', 'Utah'), ('Utah State University', 'Logan', 'Utah'), ('Brigham Young University', 'Provo', 'Utah'), ('Utah Valley University', 'Orem', 'Utah'), ('University of Utah', 'Salt Lake City', 'Utah'), ('Snow College', 'Ephraim', 'Utah'), (\"University of Vermont, Champlain College and Saint Michael's College\", 'Burlington', 'Vermon'), ('Castleton State College', 'Castleton', 'Vermon'), ('Johnson State College', 'Johnson', 'Vermon'), ('Lyndon State College', 'Lyndonville', 'Vermon'), ('Middlebury College', 'Middlebury', 'Vermon'), ('Norwich University', 'Northfield', 'Vermon'), ('Virginia Polytechnic Institute and State University', 'Blacksburg', 'Virginia'), ('Bridgewater College', 'Bridgewater', 'Virginia'), ('University of Virginia', 'Charlottesville', 'Virginia'), ('Longwood University, Hampden-Sydney College', 'Farmville', 'Virginia'), ('University of Mary Washington', 'Fredericksburg', 'Virginia'), ('James Madison University, Eastern Mennonite University', 'Harrisonburg', 'Virginia'), ('Washington and Lee University, Virginia Military Institute', 'Lexington', 'Virginia'), ('Lynchburg College, Randolph College, Liberty University, Central Virginia Community College', 'Lynchburg', 'Virginia'), ('Radford University', 'Radford', 'Virginia'), ('The College of William & Mary', 'Williamsburg', 'Virginia'), (\"University of Virginia's College at Wise\", 'Wise', 'Virginia'), ('Averett University, DeVry University, Troy University, Tidewater Community College, Strayer University, Everest University, Sentera College of Health Sciences, St Leo University', 'Chesapeake', 'Virginia'), ('Western Washington University', 'Bellingham', 'Washington'), ('Eastern Washington University', 'Cheney', 'Washington'), ('Central Washington University', 'Ellensburg', 'Washington'), ('Washington State University', 'Pullman', 'Washington'), ('University of Washington', 'University District, Seattle', 'Washington'), ('Concord University', 'Athens', 'West Virginia'), ('West Virginia Wesleyan College', 'Buckhannon', 'West Virginia'), ('Fairmont State University', 'Fairmont', 'West Virginia'), ('Glenville State College', 'Glenville', 'West Virginia'), ('Marshall University', 'Huntington', 'West Virginia'), ('West Virginia University Institute of Technology', 'Montgomery', 'West Virginia'), ('West Virginia University', 'Morgantown', 'West Virginia'), ('Shepherd University', 'Shepherdstown', 'West Virginia'), ('West Liberty University', 'West Liberty', 'West Virginia'), ('Lawrence University', 'Appleton', 'Wisconsin'), ('University of Wisconsin–Eau Claire', 'Eau Claire', 'Wisconsin'), ('University of Wisconsin-Green Bay', 'Green Bay', 'Wisconsin'), ('University of Wisconsin–La Crosse, Western Technical College, Viterbo University', 'La Crosse', 'Wisconsin'), ('University of Wisconsin–Madison', 'Madison', 'Wisconsin'), ('University of Wisconsin–Stout', 'Menomonie', 'Wisconsin'), ('Marquette University, University of Wisconsin–Milwaukee', 'Milwaukee', 'Wisconsin'), ('University of Wisconsin–Oshkosh', 'Oshkosh', 'Wisconsin'), ('University of Wisconsin–Platteville', 'Platteville', 'Wisconsin'), ('University of Wisconsin–River Falls', 'River Falls', 'Wisconsin'), ('University of Wisconsin–Stevens Point', 'Stevens Point', 'Wisconsin'), ('Carroll University', 'Waukesha', 'Wisconsin'), ('University of Wisconsin–Whitewater', 'Whitewater', 'Wisconsin'), ('University of Wyoming', 'Laramie', 'Wyoming'), ('555', '+000', '123456')]\n"
          ]
        }
      ]
    },
    {
      "cell_type": "code",
      "source": [
        "df = pd.DataFrame(universities, columns=['University', 'Location', 'State'])\n",
        "print(df)"
      ],
      "metadata": {
        "colab": {
          "base_uri": "https://localhost:8080/"
        },
        "id": "5kOph0AucuJk",
        "outputId": "9dfd95f0-7ce9-4242-a2e5-b08eefbbd4e1"
      },
      "execution_count": 59,
      "outputs": [
        {
          "output_type": "stream",
          "name": "stdout",
          "text": [
            "                                University       Location      State\n",
            "0                        Auburn University         Auburn    Alabama\n",
            "1              University of North Alabama       Florence    Alabama\n",
            "2            Jacksonville State University   Jacksonville    Alabama\n",
            "3               University of West Alabama     Livingston    Alabama\n",
            "4                 University of Montevallo     Montevallo    Alabama\n",
            "..                                     ...            ...        ...\n",
            "512  University of Wisconsin–Stevens Point  Stevens Point  Wisconsin\n",
            "513                     Carroll University       Waukesha  Wisconsin\n",
            "514     University of Wisconsin–Whitewater     Whitewater  Wisconsin\n",
            "515                  University of Wyoming        Laramie    Wyoming\n",
            "516                                    555           +000     123456\n",
            "\n",
            "[517 rows x 3 columns]\n"
          ]
        }
      ]
    },
    {
      "cell_type": "markdown",
      "source": [
        "2. Bővítsük ki az adatbázisunkat egy oszloppal, mely tartalmazza az államok rövidítését is (pl. Texas - TX, California - CA stb.).  [Forrás](https://en.wikipedia.org/wiki/List_of_U.S._state_abbreviations)."
      ],
      "metadata": {
        "id": "BTHOaKHqqMsu"
      }
    },
    {
      "cell_type": "code",
      "source": [
        "numeric_mask = df['State'].str.isnumeric()\n",
        "\n",
        "df = df[~numeric_mask]\n",
        "\n",
        "print(df)"
      ],
      "metadata": {
        "colab": {
          "base_uri": "https://localhost:8080/"
        },
        "id": "Cp01fSIhuKBq",
        "outputId": "bb2fd4b3-17e6-49dd-a0f7-cfb0eb09261e"
      },
      "execution_count": 60,
      "outputs": [
        {
          "output_type": "stream",
          "name": "stdout",
          "text": [
            "                                University       Location      State\n",
            "0                        Auburn University         Auburn    Alabama\n",
            "1              University of North Alabama       Florence    Alabama\n",
            "2            Jacksonville State University   Jacksonville    Alabama\n",
            "3               University of West Alabama     Livingston    Alabama\n",
            "4                 University of Montevallo     Montevallo    Alabama\n",
            "..                                     ...            ...        ...\n",
            "511    University of Wisconsin–River Falls    River Falls  Wisconsin\n",
            "512  University of Wisconsin–Stevens Point  Stevens Point  Wisconsin\n",
            "513                     Carroll University       Waukesha  Wisconsin\n",
            "514     University of Wisconsin–Whitewater     Whitewater  Wisconsin\n",
            "515                  University of Wyoming        Laramie    Wyoming\n",
            "\n",
            "[516 rows x 3 columns]\n"
          ]
        }
      ]
    },
    {
      "cell_type": "code",
      "source": [
        "with open('/content/drive/My Drive/statesAbrev.txt', 'r') as f:\n",
        "    lines = f.readlines()"
      ],
      "metadata": {
        "id": "rbRx3YgpoqPe"
      },
      "execution_count": 61,
      "outputs": []
    },
    {
      "cell_type": "code",
      "source": [
        "lines = [line.rstrip() for line in lines]\n",
        "stateAbbrev = []\n",
        "for line in lines:\n",
        "  res = line.split(' - ')\n",
        "  stateAbbrev.append((res[0], res[1]))\n",
        "print(stateAbbrev)"
      ],
      "metadata": {
        "colab": {
          "base_uri": "https://localhost:8080/"
        },
        "id": "QVtzkV3Xo68k",
        "outputId": "da45b3d8-becd-4de1-d9b1-dcb74375865f"
      },
      "execution_count": 62,
      "outputs": [
        {
          "output_type": "stream",
          "name": "stdout",
          "text": [
            "[('Alabama', 'AL'), ('Kentucky', 'KY'), ('Ohio', 'OH'), ('Alaska', 'AK'), ('Louisiana', 'LA'), ('Oklahoma', 'OK'), ('Arizona', 'AZ'), ('Maine', 'ME'), ('Oregon', 'OR'), ('Arkansas', 'AR'), ('Maryland', 'MD'), ('Pennsylvania', 'PA'), ('American Samoa', 'AS'), ('Massachusetts', 'MA'), ('Puerto Rico', 'PR'), ('California', 'CA'), ('Michigan', 'MI'), ('Rhode Island', 'RI'), ('Colorado', 'CO'), ('Minnesota', 'MN'), ('South Carolina', 'SC'), ('Connecticut', 'CT'), ('Mississippi', 'MS'), ('South Dakota', 'SD'), ('Delaware', 'DE'), ('Missouri', 'MO'), ('Tennessee', 'TN'), ('District of Columbia', 'DC'), ('Montana', 'MT'), ('Texas', 'TX'), ('Florida', 'FL'), ('Nebraska', 'NE'), ('Trust Territories', 'TT'), ('Georgia', 'GA'), ('Nevada', 'NV'), ('Utah', 'UT'), ('Guam', 'GU'), ('New Hampshire', 'NH'), ('Vermont', 'VT'), ('Hawaii', 'HI'), ('New Jersey', 'NJ'), ('Virginia', 'VA'), ('Idaho', 'ID'), ('New Mexico', 'NM'), ('Virgin Islands', 'VI'), ('Illinois', 'IL'), ('New York', 'NY'), ('Washington', 'WA'), ('Indiana', 'IN'), ('North Carolina', 'NC'), ('West Virginia', 'WV'), ('Iowa', 'IA'), ('North Dakota', 'ND'), ('Wisconsin', 'WI'), ('Kansas', 'KS'), ('Northern Mariana Islands', 'MP'), ('Wyoming', 'WY')]\n"
          ]
        }
      ]
    },
    {
      "cell_type": "code",
      "source": [
        "#state_abbrs = [('Alabama', 'AL'), ('Alaska', 'AK'), ('Arizona', 'AZ'), ('Arkansas', 'AR'), ('California', 'CA'), ('Colorado', 'CO'), ('Connecticut', 'CT'), ('Delaware', 'DE'), ('Florida', 'FL'), ('Georgia', 'GA'), ('Hawaii', 'HI'), ('Idaho', 'ID'), ('Illinois', 'IL'), ('Indiana', 'IN'), ('Iowa', 'IA'), ('Kansas', 'KS'), ('Kentucky', 'KY'), ('Louisiana', 'LA'), ('Maine', 'ME'), ('Maryland', 'MD'), ('Massachusetts', 'MA'), ('Michigan', 'MI'), ('Minnesota', 'MN'), ('Mississippi', 'MS'), ('Missouri', 'MO'), ('Montana', 'MT'), ('Nebraska', 'NE'), ('Nevada', 'NV'), ('New Hampshire', 'NH'), ('New Jersey', 'NJ'), ('New Mexico', 'NM'), ('New York', 'NY'), ('North Carolina', 'NC'), ('North Dakota', 'ND'), ('Ohio', 'OH'), ('Oklahoma', 'OK'), ('Oregon', 'OR'), ('Pennsylvania', 'PA'), ('Rhode Island', 'RI'), ('South Carolina', 'SC'), ('South Dakota', 'SD'), ('Tennessee', 'TN'), ('Texas', 'TX'), ('Utah', 'UT'), ('Vermont', 'VT'), ('Virginia', 'VA'), ('Washington', 'WA'), ('West Virginia', 'WV'), ('Wisconsin', 'WI'), ('Wyoming', 'WY')]\n",
        "\n",
        "state_abbrev_dict = dict(stateAbbrev)\n",
        "\n",
        "df['State Abbreviation'] = df['State'].map(state_abbrev_dict)\n",
        "print(df)"
      ],
      "metadata": {
        "colab": {
          "base_uri": "https://localhost:8080/"
        },
        "id": "cXffBhmecLgb",
        "outputId": "2b670e06-d80b-49f9-cc97-91074679dd21"
      },
      "execution_count": 63,
      "outputs": [
        {
          "output_type": "stream",
          "name": "stdout",
          "text": [
            "                                University       Location      State  \\\n",
            "0                        Auburn University         Auburn    Alabama   \n",
            "1              University of North Alabama       Florence    Alabama   \n",
            "2            Jacksonville State University   Jacksonville    Alabama   \n",
            "3               University of West Alabama     Livingston    Alabama   \n",
            "4                 University of Montevallo     Montevallo    Alabama   \n",
            "..                                     ...            ...        ...   \n",
            "511    University of Wisconsin–River Falls    River Falls  Wisconsin   \n",
            "512  University of Wisconsin–Stevens Point  Stevens Point  Wisconsin   \n",
            "513                     Carroll University       Waukesha  Wisconsin   \n",
            "514     University of Wisconsin–Whitewater     Whitewater  Wisconsin   \n",
            "515                  University of Wyoming        Laramie    Wyoming   \n",
            "\n",
            "    State Abbreviation  \n",
            "0                   AL  \n",
            "1                   AL  \n",
            "2                   AL  \n",
            "3                   AL  \n",
            "4                   AL  \n",
            "..                 ...  \n",
            "511                 WI  \n",
            "512                 WI  \n",
            "513                 WI  \n",
            "514                 WI  \n",
            "515                 WY  \n",
            "\n",
            "[516 rows x 4 columns]\n"
          ]
        }
      ]
    },
    {
      "cell_type": "markdown",
      "source": [
        "3. Az adatbázist integráljuk a [List of states and territories of the United States by population](https://en.wikipedia.org/wiki/List_of_states_and_territories_of_the_United_States_by_population) linken szereplő népszámlálási adatokkal és számoljuk ki államonként hány főre jut egy egyetemi város."
      ],
      "metadata": {
        "id": "ghSXt3L9qPgt"
      }
    },
    {
      "cell_type": "code",
      "source": [
        "population_data = [('AL', 4903185), ('AK', 731545), ('AZ', 7278717), ('AR', 3017804), ('CA', 39538223), ('CO', 5787590), ('CT', 3605944), ('DE', 989948), ('FL', 21538187), ('GA', 10711908), ('HI', 1415872), ('ID', 1826156), ('IL', 12671821), ('IN', 6732219), ('IA', 3155070), ('KS', 2913314), ('KY', 4467673), ('LA', 4648794), ('ME', 1344212), ('MD', 6045680), ('MA', 6892503), ('MI', 9986857), ('MN', 5639632), ('MS', 2976149), ('MO', 6137428), ('MT', 1068778), ('NE', 1934408), ('NV', 3080156), ('NH', 1377529), ('NJ', 9288994), ('NM', 2117522), ('NY', 20201249), ('NC', 10439388), ('ND', 779094), ('OH', 11689100), ('OK', 39538223), ('OR', 4241502), ('PA', 12801989), ('RI', 1059361), ('SC', 5148714), ('SD', 884659), ('TN', 6833174), ('TX', 28995881), ('UT', 3205958), ('VT', 623989), ('VA', 8535519), ('WA', 7693612), ('WV', 1792147), ('WI', 5822434), ('WY', 578759)]\n",
        "\n",
        "\n",
        "population_dict = dict(population_data)\n",
        "df['Population'] = df['State Abbreviation'].map(population_dict)\n",
        "\n",
        "print(df)"
      ],
      "metadata": {
        "id": "3AvsZZ6rqlim",
        "colab": {
          "base_uri": "https://localhost:8080/"
        },
        "outputId": "5ee80842-cf48-4ac0-c2c2-b3f3336f312f"
      },
      "execution_count": 64,
      "outputs": [
        {
          "output_type": "stream",
          "name": "stdout",
          "text": [
            "                                University       Location      State  \\\n",
            "0                        Auburn University         Auburn    Alabama   \n",
            "1              University of North Alabama       Florence    Alabama   \n",
            "2            Jacksonville State University   Jacksonville    Alabama   \n",
            "3               University of West Alabama     Livingston    Alabama   \n",
            "4                 University of Montevallo     Montevallo    Alabama   \n",
            "..                                     ...            ...        ...   \n",
            "511    University of Wisconsin–River Falls    River Falls  Wisconsin   \n",
            "512  University of Wisconsin–Stevens Point  Stevens Point  Wisconsin   \n",
            "513                     Carroll University       Waukesha  Wisconsin   \n",
            "514     University of Wisconsin–Whitewater     Whitewater  Wisconsin   \n",
            "515                  University of Wyoming        Laramie    Wyoming   \n",
            "\n",
            "    State Abbreviation  Population  \n",
            "0                   AL   4903185.0  \n",
            "1                   AL   4903185.0  \n",
            "2                   AL   4903185.0  \n",
            "3                   AL   4903185.0  \n",
            "4                   AL   4903185.0  \n",
            "..                 ...         ...  \n",
            "511                 WI   5822434.0  \n",
            "512                 WI   5822434.0  \n",
            "513                 WI   5822434.0  \n",
            "514                 WI   5822434.0  \n",
            "515                 WY    578759.0  \n",
            "\n",
            "[516 rows x 5 columns]\n"
          ]
        }
      ]
    },
    {
      "cell_type": "markdown",
      "source": [
        "4. Hasonlóan, a [List of U.S. states and territories by area](https://en.wikipedia.org/wiki/List_of_U.S._states_and_territories_by_area) linken szereplő területi adatok integrálásával, számoljuk ki államonként átlagban hány négyzetkilométerre jut egy egyetemi város."
      ],
      "metadata": {
        "id": "nLtpIoKEqTRk"
      }
    },
    {
      "cell_type": "code",
      "source": [
        "territory_data = [('AL', 52420), ('AK', 665384), ('AZ', 113990), ('AR', 53179), ('CA', 163696), ('CO', 104185), ('CT', 5544), ('DE', 2489), ('FL', 65757), ('GA', 59425), ('HI', 10932), ('ID', 83569), ('IL', 57914), ('IN', 36420), ('IA', 56272), ('KS', 82278), ('KY', 40408), ('LA', 52378), ('ME', 35380), ('MD', 12406), ('MA', 10555), ('MI', 96714), ('MN', 86936), ('MS', 48432), ('MO', 69707), ('MT', 147040), ('NE', 77348), ('NV', 110577), ('NH', 9349), ('NJ', 8723), ('NM', 121590), ('NY', 54554), ('NC', 53821), ('ND', 70764), ('OH', 44826), ('OK', 69899), ('OR', 98381), ('PA', 46055), ('RI', 1545), ('SC', 32020), ('SD', 77116), ('TN', 42144), ('TX', 268596), ('UT', 84897), ('VT', 9615), ('VA', 42775), ('WA', 71362), ('WV', 24231), ('WI', 65496), ('WY', 97813)]\n",
        "\n",
        "territory_dict = dict(territory_data)\n",
        "\n",
        "df['Territory'] = df['State Abbreviation'].map(territory_dict)\n",
        "\n",
        "print(df)\n"
      ],
      "metadata": {
        "id": "fsQqL_1Vql91",
        "colab": {
          "base_uri": "https://localhost:8080/"
        },
        "outputId": "5c06e434-e132-4255-b146-dc78d052c113"
      },
      "execution_count": 65,
      "outputs": [
        {
          "output_type": "stream",
          "name": "stdout",
          "text": [
            "                                University       Location      State  \\\n",
            "0                        Auburn University         Auburn    Alabama   \n",
            "1              University of North Alabama       Florence    Alabama   \n",
            "2            Jacksonville State University   Jacksonville    Alabama   \n",
            "3               University of West Alabama     Livingston    Alabama   \n",
            "4                 University of Montevallo     Montevallo    Alabama   \n",
            "..                                     ...            ...        ...   \n",
            "511    University of Wisconsin–River Falls    River Falls  Wisconsin   \n",
            "512  University of Wisconsin–Stevens Point  Stevens Point  Wisconsin   \n",
            "513                     Carroll University       Waukesha  Wisconsin   \n",
            "514     University of Wisconsin–Whitewater     Whitewater  Wisconsin   \n",
            "515                  University of Wyoming        Laramie    Wyoming   \n",
            "\n",
            "    State Abbreviation  Population  Territory  \n",
            "0                   AL   4903185.0    52420.0  \n",
            "1                   AL   4903185.0    52420.0  \n",
            "2                   AL   4903185.0    52420.0  \n",
            "3                   AL   4903185.0    52420.0  \n",
            "4                   AL   4903185.0    52420.0  \n",
            "..                 ...         ...        ...  \n",
            "511                 WI   5822434.0    65496.0  \n",
            "512                 WI   5822434.0    65496.0  \n",
            "513                 WI   5822434.0    65496.0  \n",
            "514                 WI   5822434.0    65496.0  \n",
            "515                 WY    578759.0    97813.0  \n",
            "\n",
            "[516 rows x 6 columns]\n"
          ]
        }
      ]
    },
    {
      "cell_type": "code",
      "source": [
        "df['Universities per Area'] = df.groupby('State')['University'].transform('count') / df['Territory']\n",
        "df['Universities per State'] = df.groupby('State')['University'].transform('count')\n",
        "df['Universities per Person'] = df.groupby('State')['University'].transform('count') / df['Population']\n",
        "# display updated dataframe\n",
        "print(df)"
      ],
      "metadata": {
        "colab": {
          "base_uri": "https://localhost:8080/"
        },
        "id": "zrFzgkSzvoAo",
        "outputId": "c169ed5e-4092-4723-88a2-5f33e8871261"
      },
      "execution_count": 84,
      "outputs": [
        {
          "output_type": "stream",
          "name": "stdout",
          "text": [
            "                                University       Location      State  \\\n",
            "0                        Auburn University         Auburn    Alabama   \n",
            "1              University of North Alabama       Florence    Alabama   \n",
            "2            Jacksonville State University   Jacksonville    Alabama   \n",
            "3               University of West Alabama     Livingston    Alabama   \n",
            "4                 University of Montevallo     Montevallo    Alabama   \n",
            "..                                     ...            ...        ...   \n",
            "511    University of Wisconsin–River Falls    River Falls  Wisconsin   \n",
            "512  University of Wisconsin–Stevens Point  Stevens Point  Wisconsin   \n",
            "513                     Carroll University       Waukesha  Wisconsin   \n",
            "514     University of Wisconsin–Whitewater     Whitewater  Wisconsin   \n",
            "515                  University of Wyoming        Laramie    Wyoming   \n",
            "\n",
            "    State Abbreviation  Population  Territory  Universities per Area  \\\n",
            "0                   AL   4903185.0    52420.0               0.000153   \n",
            "1                   AL   4903185.0    52420.0               0.000153   \n",
            "2                   AL   4903185.0    52420.0               0.000153   \n",
            "3                   AL   4903185.0    52420.0               0.000153   \n",
            "4                   AL   4903185.0    52420.0               0.000153   \n",
            "..                 ...         ...        ...                    ...   \n",
            "511                 WI   5822434.0    65496.0               0.000198   \n",
            "512                 WI   5822434.0    65496.0               0.000198   \n",
            "513                 WI   5822434.0    65496.0               0.000198   \n",
            "514                 WI   5822434.0    65496.0               0.000198   \n",
            "515                 WY    578759.0    97813.0               0.000010   \n",
            "\n",
            "     Universities per State  Universities per Person  \n",
            "0                         8                 0.000002  \n",
            "1                         8                 0.000002  \n",
            "2                         8                 0.000002  \n",
            "3                         8                 0.000002  \n",
            "4                         8                 0.000002  \n",
            "..                      ...                      ...  \n",
            "511                      13                 0.000002  \n",
            "512                      13                 0.000002  \n",
            "513                      13                 0.000002  \n",
            "514                      13                 0.000002  \n",
            "515                       1                 0.000002  \n",
            "\n",
            "[516 rows x 9 columns]\n"
          ]
        }
      ]
    },
    {
      "cell_type": "markdown",
      "source": [
        "5. A [példa](https://datasciencechalktalk.com/2019/09/28/analyzing-u-s-exports-with-plotly/), a kivitelt, exportmennyiséget ábrázolja az Amerikai Egyesült Államok térképen, államonként lebontva ezt. Készítsünk hasonló ábrákat az egyetemek abszolút, lakoság és terület szerinti eloszlásáról is. Az ábrákat exportáljuk kép formájában.\n",
        "![](https://i.ibb.co/s1zdnLY/mapplot.png)\n",
        "\n",
        "Ábra 1. [Térképen való ábrázolás](https://plotly.com/python/maps/) Plotly segítségével. [Forrás](https://datasciencechalktalk.com/2019/09/28/analyzing-u-s-exports-with-plotly/)."
      ],
      "metadata": {
        "id": "_SNDj-RrqWGU"
      }
    },
    {
      "cell_type": "code",
      "source": [
        "import plotly.graph_objects as go\n",
        "import pandas as pd\n",
        "\n",
        "fig = go.Figure(data=go.Choropleth(\n",
        "\tlocations=df['State Abbreviation'],\n",
        "\tz = df['Universities per State'],\n",
        "\tlocationmode = 'USA-states',\n",
        "\tcolorscale = 'Greens',\n",
        "\tcolorbar_title = 'Universities per State'\n",
        "))\n",
        "\n",
        "fig.update_layout(title_text = 'Universities in the States', geo_scope = 'usa')\n",
        "fig.show()\n"
      ],
      "metadata": {
        "id": "sKVmK4YkqnPc",
        "colab": {
          "base_uri": "https://localhost:8080/",
          "height": 542
        },
        "outputId": "888b54f6-5cab-4740-f3b3-d0adc6a08945"
      },
      "execution_count": 78,
      "outputs": [
        {
          "output_type": "display_data",
          "data": {
            "text/html": [
              "<html>\n",
              "<head><meta charset=\"utf-8\" /></head>\n",
              "<body>\n",
              "    <div>            <script src=\"https://cdnjs.cloudflare.com/ajax/libs/mathjax/2.7.5/MathJax.js?config=TeX-AMS-MML_SVG\"></script><script type=\"text/javascript\">if (window.MathJax && window.MathJax.Hub && window.MathJax.Hub.Config) {window.MathJax.Hub.Config({SVG: {font: \"STIX-Web\"}});}</script>                <script type=\"text/javascript\">window.PlotlyConfig = {MathJaxConfig: 'local'};</script>\n",
              "        <script src=\"https://cdn.plot.ly/plotly-2.18.2.min.js\"></script>                <div id=\"fa95ac25-bb5d-4b3e-a616-51311b333fe4\" class=\"plotly-graph-div\" style=\"height:525px; width:100%;\"></div>            <script type=\"text/javascript\">                                    window.PLOTLYENV=window.PLOTLYENV || {};                                    if (document.getElementById(\"fa95ac25-bb5d-4b3e-a616-51311b333fe4\")) {                    Plotly.newPlot(                        \"fa95ac25-bb5d-4b3e-a616-51311b333fe4\",                        [{\"colorbar\":{\"title\":{\"text\":\"Universities per State\"}},\"colorscale\":[[0.0,\"rgb(247,252,245)\"],[0.125,\"rgb(229,245,224)\"],[0.25,\"rgb(199,233,192)\"],[0.375,\"rgb(161,217,155)\"],[0.5,\"rgb(116,196,118)\"],[0.625,\"rgb(65,171,93)\"],[0.75,\"rgb(35,139,69)\"],[0.875,\"rgb(0,109,44)\"],[1.0,\"rgb(0,68,27)\"]],\"locationmode\":\"USA-states\",\"locations\":[\"AL\",\"AL\",\"AL\",\"AL\",\"AL\",\"AL\",\"AL\",\"AL\",\"AK\",\"AZ\",\"AZ\",\"AZ\",\"AR\",\"AR\",\"AR\",\"AR\",\"AR\",\"AR\",\"AR\",\"AR\",\"CA\",\"CA\",\"CA\",\"CA\",\"CA\",\"CA\",\"CA\",\"CA\",\"CA\",\"CA\",\"CA\",\"CA\",\"CA\",\"CA\",\"CA\",\"CA\",\"CA\",\"CA\",\"CA\",\"CA\",\"CA\",\"CA\",\"CA\",\"CA\",\"CA\",\"CA\",\"CO\",\"CO\",\"CO\",\"CO\",\"CO\",\"CO\",\"CO\",\"CO\",\"CO\",null,null,null,null,null,null,null,null,null,\"FL\",\"FL\",\"FL\",\"FL\",\"FL\",\"FL\",\"FL\",\"FL\",\"FL\",\"FL\",\"FL\",\"FL\",\"GA\",\"GA\",\"GA\",\"GA\",\"GA\",\"GA\",\"GA\",\"GA\",\"GA\",\"GA\",\"GA\",\"GA\",\"GA\",\"GA\",\"GA\",\"GA\",null,\"ID\",\"ID\",\"ID\",\"IL\",\"IL\",\"IL\",\"IL\",\"IL\",\"IL\",\"IL\",\"IL\",\"IL\",\"IL\",\"IN\",\"IN\",\"IN\",\"IN\",\"IN\",\"IN\",\"IN\",\"IN\",\"IN\",\"IN\",\"IN\",\"IN\",\"IN\",\"IA\",\"IA\",\"IA\",\"IA\",\"IA\",\"IA\",\"IA\",\"IA\",\"IA\",\"IA\",\"IA\",\"IA\",\"IA\",\"KS\",\"KS\",\"KS\",\"KS\",\"KS\",\"KS\",\"KY\",\"KY\",\"KY\",\"KY\",\"KY\",\"KY\",\"KY\",\"KY\",\"KY\",\"KY\",\"KY\",\"LA\",\"LA\",\"LA\",\"LA\",\"LA\",\"LA\",\"LA\",\"LA\",null,null,null,null,null,null,null,null,null,null,null,null,null,null,null,null,null,null,null,\"MA\",\"MA\",\"MA\",\"MA\",\"MA\",\"MA\",\"MA\",\"MA\",\"MA\",\"MA\",\"MA\",\"MA\",\"MA\",\"MA\",\"MA\",\"MA\",\"MA\",\"MI\",\"MI\",\"MI\",\"MI\",\"MI\",\"MI\",\"MI\",\"MI\",\"MI\",\"MI\",\"MI\",\"MI\",\"MI\",\"MI\",\"MI\",\"MI\",\"MI\",\"MI\",\"MI\",\"MI\",\"MN\",\"MN\",\"MN\",\"MN\",\"MN\",\"MN\",\"MN\",\"MN\",\"MN\",\"MN\",\"MN\",\"MN\",\"MN\",\"MN\",null,null,null,null,null,null,null,null,null,null,null,null,null,null,\"MT\",\"MT\",\"MT\",\"NE\",\"NE\",\"NE\",\"NE\",\"NE\",\"NE\",\"NE\",\"NV\",\"NV\",null,null,null,null,null,null,null,\"NJ\",\"NJ\",\"NJ\",\"NJ\",\"NJ\",\"NJ\",\"NJ\",\"NJ\",\"NJ\",\"NJ\",\"NM\",\"NM\",\"NM\",\"NM\",\"NM\",\"NY\",\"NY\",\"NY\",\"NY\",\"NY\",\"NY\",\"NY\",\"NY\",\"NY\",\"NY\",\"NY\",\"NY\",\"NY\",\"NY\",\"NY\",\"NY\",\"NY\",\"NY\",\"NY\",\"NY\",\"NY\",\"NY\",\"NY\",\"NY\",\"NY\",\"NY\",\"NY\",\"NY\",\"NY\",\"NY\",\"NY\",\"NC\",\"NC\",\"NC\",\"NC\",\"NC\",\"NC\",\"NC\",\"NC\",\"NC\",\"NC\",\"NC\",\"NC\",\"NC\",\"NC\",\"NC\",\"NC\",\"NC\",\"NC\",\"ND\",\"ND\",\"OH\",\"OH\",\"OH\",\"OH\",\"OH\",\"OH\",\"OH\",\"OH\",\"OH\",\"OH\",\"OH\",\"OH\",\"OH\",\"OH\",\"OH\",\"OH\",\"OH\",\"OH\",\"OH\",\"OH\",\"OH\",\"OH\",\"OK\",\"OK\",\"OK\",\"OK\",\"OK\",\"OK\",\"OK\",\"OK\",\"OK\",\"OK\",\"OK\",\"OR\",\"OR\",\"OR\",\"OR\",\"OR\",\"OR\",\"OR\",\"OR\",\"OR\",\"OR\",\"PA\",\"PA\",\"PA\",\"PA\",\"PA\",\"PA\",\"PA\",\"PA\",\"PA\",\"PA\",\"PA\",\"PA\",\"PA\",\"PA\",\"PA\",\"PA\",\"PA\",\"PA\",\"PA\",\"PA\",\"PA\",\"PA\",\"PA\",\"PA\",\"PA\",\"PA\",\"PA\",\"PA\",\"PA\",\"PA\",\"PA\",\"PA\",\"PA\",\"PA\",\"PA\",\"PA\",\"PA\",\"PA\",\"PA\",\"PA\",\"PA\",\"PA\",\"PA\",null,null,\"SC\",\"SC\",\"SC\",\"SC\",\"SC\",\"SC\",\"SC\",\"SC\",\"SC\",\"SC\",\"SC\",\"SD\",\"SD\",\"SD\",\"SD\",null,null,null,null,null,null,null,null,null,null,null,null,null,\"TX\",\"TX\",\"TX\",\"TX\",\"TX\",\"TX\",\"TX\",\"TX\",\"TX\",\"TX\",\"TX\",\"TX\",\"TX\",\"TX\",\"TX\",\"TX\",\"TX\",\"TX\",\"TX\",\"TX\",\"TX\",\"TX\",\"UT\",\"UT\",\"UT\",\"UT\",\"UT\",\"UT\",null,null,null,null,null,null,\"VA\",\"VA\",\"VA\",\"VA\",\"VA\",\"VA\",\"VA\",\"VA\",\"VA\",\"VA\",\"VA\",\"VA\",\"WA\",\"WA\",\"WA\",\"WA\",\"WA\",\"WV\",\"WV\",\"WV\",\"WV\",\"WV\",\"WV\",\"WV\",\"WV\",\"WV\",\"WI\",\"WI\",\"WI\",\"WI\",\"WI\",\"WI\",\"WI\",\"WI\",\"WI\",\"WI\",\"WI\",\"WI\",\"WI\",\"WY\"],\"z\":[8,8,8,8,8,8,8,8,1,3,3,3,8,8,8,8,8,8,8,8,26,26,26,26,26,26,26,26,26,26,26,26,26,26,26,26,26,26,26,26,26,26,26,26,26,26,9,9,9,9,9,9,9,9,9,7,7,7,7,7,7,7,2,2,12,12,12,12,12,12,12,12,12,12,12,12,16,16,16,16,16,16,16,16,16,16,16,16,16,16,16,16,1,3,3,3,10,10,10,10,10,10,10,10,10,10,13,13,13,13,13,13,13,13,13,13,13,13,13,13,13,13,13,13,13,13,13,13,13,13,13,13,6,6,6,6,6,6,11,11,11,11,11,11,11,11,11,11,11,8,8,8,8,8,8,8,8,9,9,9,9,9,9,9,9,9,10,10,10,10,10,10,10,10,10,10,17,17,17,17,17,17,17,17,17,17,17,17,17,17,17,17,17,20,20,20,20,20,20,20,20,20,20,20,20,20,20,20,20,20,20,20,20,14,14,14,14,14,14,14,14,14,14,14,14,14,14,5,5,5,5,5,9,9,9,9,9,9,9,9,9,3,3,3,7,7,7,7,7,7,7,2,2,7,7,7,7,7,7,7,10,10,10,10,10,10,10,10,10,10,5,5,5,5,5,31,31,31,31,31,31,31,31,31,31,31,31,31,31,31,31,31,31,31,31,31,31,31,31,31,31,31,31,31,31,31,18,18,18,18,18,18,18,18,18,18,18,18,18,18,18,18,18,18,2,2,22,22,22,22,22,22,22,22,22,22,22,22,22,22,22,22,22,22,22,22,22,22,11,11,11,11,11,11,11,11,11,11,11,10,10,10,10,10,10,10,10,10,10,43,43,43,43,43,43,43,43,43,43,43,43,43,43,43,43,43,43,43,43,43,43,43,43,43,43,43,43,43,43,43,43,43,43,43,43,43,43,43,43,43,43,43,2,2,11,11,11,11,11,11,11,11,11,11,11,4,4,4,4,13,13,13,13,13,13,13,13,13,13,13,13,13,22,22,22,22,22,22,22,22,22,22,22,22,22,22,22,22,22,22,22,22,22,22,6,6,6,6,6,6,6,6,6,6,6,6,12,12,12,12,12,12,12,12,12,12,12,12,5,5,5,5,5,9,9,9,9,9,9,9,9,9,13,13,13,13,13,13,13,13,13,13,13,13,13,1],\"type\":\"choropleth\"}],                        {\"template\":{\"data\":{\"histogram2dcontour\":[{\"type\":\"histogram2dcontour\",\"colorbar\":{\"outlinewidth\":0,\"ticks\":\"\"},\"colorscale\":[[0.0,\"#0d0887\"],[0.1111111111111111,\"#46039f\"],[0.2222222222222222,\"#7201a8\"],[0.3333333333333333,\"#9c179e\"],[0.4444444444444444,\"#bd3786\"],[0.5555555555555556,\"#d8576b\"],[0.6666666666666666,\"#ed7953\"],[0.7777777777777778,\"#fb9f3a\"],[0.8888888888888888,\"#fdca26\"],[1.0,\"#f0f921\"]]}],\"choropleth\":[{\"type\":\"choropleth\",\"colorbar\":{\"outlinewidth\":0,\"ticks\":\"\"}}],\"histogram2d\":[{\"type\":\"histogram2d\",\"colorbar\":{\"outlinewidth\":0,\"ticks\":\"\"},\"colorscale\":[[0.0,\"#0d0887\"],[0.1111111111111111,\"#46039f\"],[0.2222222222222222,\"#7201a8\"],[0.3333333333333333,\"#9c179e\"],[0.4444444444444444,\"#bd3786\"],[0.5555555555555556,\"#d8576b\"],[0.6666666666666666,\"#ed7953\"],[0.7777777777777778,\"#fb9f3a\"],[0.8888888888888888,\"#fdca26\"],[1.0,\"#f0f921\"]]}],\"heatmap\":[{\"type\":\"heatmap\",\"colorbar\":{\"outlinewidth\":0,\"ticks\":\"\"},\"colorscale\":[[0.0,\"#0d0887\"],[0.1111111111111111,\"#46039f\"],[0.2222222222222222,\"#7201a8\"],[0.3333333333333333,\"#9c179e\"],[0.4444444444444444,\"#bd3786\"],[0.5555555555555556,\"#d8576b\"],[0.6666666666666666,\"#ed7953\"],[0.7777777777777778,\"#fb9f3a\"],[0.8888888888888888,\"#fdca26\"],[1.0,\"#f0f921\"]]}],\"heatmapgl\":[{\"type\":\"heatmapgl\",\"colorbar\":{\"outlinewidth\":0,\"ticks\":\"\"},\"colorscale\":[[0.0,\"#0d0887\"],[0.1111111111111111,\"#46039f\"],[0.2222222222222222,\"#7201a8\"],[0.3333333333333333,\"#9c179e\"],[0.4444444444444444,\"#bd3786\"],[0.5555555555555556,\"#d8576b\"],[0.6666666666666666,\"#ed7953\"],[0.7777777777777778,\"#fb9f3a\"],[0.8888888888888888,\"#fdca26\"],[1.0,\"#f0f921\"]]}],\"contourcarpet\":[{\"type\":\"contourcarpet\",\"colorbar\":{\"outlinewidth\":0,\"ticks\":\"\"}}],\"contour\":[{\"type\":\"contour\",\"colorbar\":{\"outlinewidth\":0,\"ticks\":\"\"},\"colorscale\":[[0.0,\"#0d0887\"],[0.1111111111111111,\"#46039f\"],[0.2222222222222222,\"#7201a8\"],[0.3333333333333333,\"#9c179e\"],[0.4444444444444444,\"#bd3786\"],[0.5555555555555556,\"#d8576b\"],[0.6666666666666666,\"#ed7953\"],[0.7777777777777778,\"#fb9f3a\"],[0.8888888888888888,\"#fdca26\"],[1.0,\"#f0f921\"]]}],\"surface\":[{\"type\":\"surface\",\"colorbar\":{\"outlinewidth\":0,\"ticks\":\"\"},\"colorscale\":[[0.0,\"#0d0887\"],[0.1111111111111111,\"#46039f\"],[0.2222222222222222,\"#7201a8\"],[0.3333333333333333,\"#9c179e\"],[0.4444444444444444,\"#bd3786\"],[0.5555555555555556,\"#d8576b\"],[0.6666666666666666,\"#ed7953\"],[0.7777777777777778,\"#fb9f3a\"],[0.8888888888888888,\"#fdca26\"],[1.0,\"#f0f921\"]]}],\"mesh3d\":[{\"type\":\"mesh3d\",\"colorbar\":{\"outlinewidth\":0,\"ticks\":\"\"}}],\"scatter\":[{\"fillpattern\":{\"fillmode\":\"overlay\",\"size\":10,\"solidity\":0.2},\"type\":\"scatter\"}],\"parcoords\":[{\"type\":\"parcoords\",\"line\":{\"colorbar\":{\"outlinewidth\":0,\"ticks\":\"\"}}}],\"scatterpolargl\":[{\"type\":\"scatterpolargl\",\"marker\":{\"colorbar\":{\"outlinewidth\":0,\"ticks\":\"\"}}}],\"bar\":[{\"error_x\":{\"color\":\"#2a3f5f\"},\"error_y\":{\"color\":\"#2a3f5f\"},\"marker\":{\"line\":{\"color\":\"#E5ECF6\",\"width\":0.5},\"pattern\":{\"fillmode\":\"overlay\",\"size\":10,\"solidity\":0.2}},\"type\":\"bar\"}],\"scattergeo\":[{\"type\":\"scattergeo\",\"marker\":{\"colorbar\":{\"outlinewidth\":0,\"ticks\":\"\"}}}],\"scatterpolar\":[{\"type\":\"scatterpolar\",\"marker\":{\"colorbar\":{\"outlinewidth\":0,\"ticks\":\"\"}}}],\"histogram\":[{\"marker\":{\"pattern\":{\"fillmode\":\"overlay\",\"size\":10,\"solidity\":0.2}},\"type\":\"histogram\"}],\"scattergl\":[{\"type\":\"scattergl\",\"marker\":{\"colorbar\":{\"outlinewidth\":0,\"ticks\":\"\"}}}],\"scatter3d\":[{\"type\":\"scatter3d\",\"line\":{\"colorbar\":{\"outlinewidth\":0,\"ticks\":\"\"}},\"marker\":{\"colorbar\":{\"outlinewidth\":0,\"ticks\":\"\"}}}],\"scattermapbox\":[{\"type\":\"scattermapbox\",\"marker\":{\"colorbar\":{\"outlinewidth\":0,\"ticks\":\"\"}}}],\"scatterternary\":[{\"type\":\"scatterternary\",\"marker\":{\"colorbar\":{\"outlinewidth\":0,\"ticks\":\"\"}}}],\"scattercarpet\":[{\"type\":\"scattercarpet\",\"marker\":{\"colorbar\":{\"outlinewidth\":0,\"ticks\":\"\"}}}],\"carpet\":[{\"aaxis\":{\"endlinecolor\":\"#2a3f5f\",\"gridcolor\":\"white\",\"linecolor\":\"white\",\"minorgridcolor\":\"white\",\"startlinecolor\":\"#2a3f5f\"},\"baxis\":{\"endlinecolor\":\"#2a3f5f\",\"gridcolor\":\"white\",\"linecolor\":\"white\",\"minorgridcolor\":\"white\",\"startlinecolor\":\"#2a3f5f\"},\"type\":\"carpet\"}],\"table\":[{\"cells\":{\"fill\":{\"color\":\"#EBF0F8\"},\"line\":{\"color\":\"white\"}},\"header\":{\"fill\":{\"color\":\"#C8D4E3\"},\"line\":{\"color\":\"white\"}},\"type\":\"table\"}],\"barpolar\":[{\"marker\":{\"line\":{\"color\":\"#E5ECF6\",\"width\":0.5},\"pattern\":{\"fillmode\":\"overlay\",\"size\":10,\"solidity\":0.2}},\"type\":\"barpolar\"}],\"pie\":[{\"automargin\":true,\"type\":\"pie\"}]},\"layout\":{\"autotypenumbers\":\"strict\",\"colorway\":[\"#636efa\",\"#EF553B\",\"#00cc96\",\"#ab63fa\",\"#FFA15A\",\"#19d3f3\",\"#FF6692\",\"#B6E880\",\"#FF97FF\",\"#FECB52\"],\"font\":{\"color\":\"#2a3f5f\"},\"hovermode\":\"closest\",\"hoverlabel\":{\"align\":\"left\"},\"paper_bgcolor\":\"white\",\"plot_bgcolor\":\"#E5ECF6\",\"polar\":{\"bgcolor\":\"#E5ECF6\",\"angularaxis\":{\"gridcolor\":\"white\",\"linecolor\":\"white\",\"ticks\":\"\"},\"radialaxis\":{\"gridcolor\":\"white\",\"linecolor\":\"white\",\"ticks\":\"\"}},\"ternary\":{\"bgcolor\":\"#E5ECF6\",\"aaxis\":{\"gridcolor\":\"white\",\"linecolor\":\"white\",\"ticks\":\"\"},\"baxis\":{\"gridcolor\":\"white\",\"linecolor\":\"white\",\"ticks\":\"\"},\"caxis\":{\"gridcolor\":\"white\",\"linecolor\":\"white\",\"ticks\":\"\"}},\"coloraxis\":{\"colorbar\":{\"outlinewidth\":0,\"ticks\":\"\"}},\"colorscale\":{\"sequential\":[[0.0,\"#0d0887\"],[0.1111111111111111,\"#46039f\"],[0.2222222222222222,\"#7201a8\"],[0.3333333333333333,\"#9c179e\"],[0.4444444444444444,\"#bd3786\"],[0.5555555555555556,\"#d8576b\"],[0.6666666666666666,\"#ed7953\"],[0.7777777777777778,\"#fb9f3a\"],[0.8888888888888888,\"#fdca26\"],[1.0,\"#f0f921\"]],\"sequentialminus\":[[0.0,\"#0d0887\"],[0.1111111111111111,\"#46039f\"],[0.2222222222222222,\"#7201a8\"],[0.3333333333333333,\"#9c179e\"],[0.4444444444444444,\"#bd3786\"],[0.5555555555555556,\"#d8576b\"],[0.6666666666666666,\"#ed7953\"],[0.7777777777777778,\"#fb9f3a\"],[0.8888888888888888,\"#fdca26\"],[1.0,\"#f0f921\"]],\"diverging\":[[0,\"#8e0152\"],[0.1,\"#c51b7d\"],[0.2,\"#de77ae\"],[0.3,\"#f1b6da\"],[0.4,\"#fde0ef\"],[0.5,\"#f7f7f7\"],[0.6,\"#e6f5d0\"],[0.7,\"#b8e186\"],[0.8,\"#7fbc41\"],[0.9,\"#4d9221\"],[1,\"#276419\"]]},\"xaxis\":{\"gridcolor\":\"white\",\"linecolor\":\"white\",\"ticks\":\"\",\"title\":{\"standoff\":15},\"zerolinecolor\":\"white\",\"automargin\":true,\"zerolinewidth\":2},\"yaxis\":{\"gridcolor\":\"white\",\"linecolor\":\"white\",\"ticks\":\"\",\"title\":{\"standoff\":15},\"zerolinecolor\":\"white\",\"automargin\":true,\"zerolinewidth\":2},\"scene\":{\"xaxis\":{\"backgroundcolor\":\"#E5ECF6\",\"gridcolor\":\"white\",\"linecolor\":\"white\",\"showbackground\":true,\"ticks\":\"\",\"zerolinecolor\":\"white\",\"gridwidth\":2},\"yaxis\":{\"backgroundcolor\":\"#E5ECF6\",\"gridcolor\":\"white\",\"linecolor\":\"white\",\"showbackground\":true,\"ticks\":\"\",\"zerolinecolor\":\"white\",\"gridwidth\":2},\"zaxis\":{\"backgroundcolor\":\"#E5ECF6\",\"gridcolor\":\"white\",\"linecolor\":\"white\",\"showbackground\":true,\"ticks\":\"\",\"zerolinecolor\":\"white\",\"gridwidth\":2}},\"shapedefaults\":{\"line\":{\"color\":\"#2a3f5f\"}},\"annotationdefaults\":{\"arrowcolor\":\"#2a3f5f\",\"arrowhead\":0,\"arrowwidth\":1},\"geo\":{\"bgcolor\":\"white\",\"landcolor\":\"#E5ECF6\",\"subunitcolor\":\"white\",\"showland\":true,\"showlakes\":true,\"lakecolor\":\"white\"},\"title\":{\"x\":0.05},\"mapbox\":{\"style\":\"light\"}}},\"title\":{\"text\":\"Universities in the States\"},\"geo\":{\"scope\":\"usa\"}},                        {\"responsive\": true}                    ).then(function(){\n",
              "                            \n",
              "var gd = document.getElementById('fa95ac25-bb5d-4b3e-a616-51311b333fe4');\n",
              "var x = new MutationObserver(function (mutations, observer) {{\n",
              "        var display = window.getComputedStyle(gd).display;\n",
              "        if (!display || display === 'none') {{\n",
              "            console.log([gd, 'removed!']);\n",
              "            Plotly.purge(gd);\n",
              "            observer.disconnect();\n",
              "        }}\n",
              "}});\n",
              "\n",
              "// Listen for the removal of the full notebook cells\n",
              "var notebookContainer = gd.closest('#notebook-container');\n",
              "if (notebookContainer) {{\n",
              "    x.observe(notebookContainer, {childList: true});\n",
              "}}\n",
              "\n",
              "// Listen for the clearing of the current output cell\n",
              "var outputEl = gd.closest('.output');\n",
              "if (outputEl) {{\n",
              "    x.observe(outputEl, {childList: true});\n",
              "}}\n",
              "\n",
              "                        })                };                            </script>        </div>\n",
              "</body>\n",
              "</html>"
            ]
          },
          "metadata": {}
        }
      ]
    },
    {
      "cell_type": "code",
      "source": [
        "#!pip install -U kaleido\n",
        "#fig.write_image('universities_per_states_map.png')"
      ],
      "metadata": {
        "id": "7H87fczF3u9-"
      },
      "execution_count": 85,
      "outputs": []
    },
    {
      "cell_type": "code",
      "source": [
        "import plotly.graph_objects as go\n",
        "import pandas as pd\n",
        "\n",
        "fig = go.Figure(data=go.Choropleth(\n",
        "\tlocations=df['State Abbreviation'],\n",
        "\tz = df['Universities per Area'],\n",
        "\tlocationmode = 'USA-states',\n",
        "\tcolorscale = 'Blues',\n",
        "\tcolorbar_title = 'Universities per Area'\n",
        "))\n",
        "\n",
        "fig.update_layout(title_text = 'Universities in the States', geo_scope = 'usa')\n",
        "fig.show()"
      ],
      "metadata": {
        "colab": {
          "base_uri": "https://localhost:8080/",
          "height": 542
        },
        "id": "mNwyjVPF4M4q",
        "outputId": "546c9411-569a-4b40-fc96-3752b070bff9"
      },
      "execution_count": 83,
      "outputs": [
        {
          "output_type": "display_data",
          "data": {
            "text/html": [
              "<html>\n",
              "<head><meta charset=\"utf-8\" /></head>\n",
              "<body>\n",
              "    <div>            <script src=\"https://cdnjs.cloudflare.com/ajax/libs/mathjax/2.7.5/MathJax.js?config=TeX-AMS-MML_SVG\"></script><script type=\"text/javascript\">if (window.MathJax && window.MathJax.Hub && window.MathJax.Hub.Config) {window.MathJax.Hub.Config({SVG: {font: \"STIX-Web\"}});}</script>                <script type=\"text/javascript\">window.PlotlyConfig = {MathJaxConfig: 'local'};</script>\n",
              "        <script src=\"https://cdn.plot.ly/plotly-2.18.2.min.js\"></script>                <div id=\"ad99d787-fbe0-4613-b4ce-66de0940b40d\" class=\"plotly-graph-div\" style=\"height:525px; width:100%;\"></div>            <script type=\"text/javascript\">                                    window.PLOTLYENV=window.PLOTLYENV || {};                                    if (document.getElementById(\"ad99d787-fbe0-4613-b4ce-66de0940b40d\")) {                    Plotly.newPlot(                        \"ad99d787-fbe0-4613-b4ce-66de0940b40d\",                        [{\"colorbar\":{\"title\":{\"text\":\"Universities per Area\"}},\"colorscale\":[[0.0,\"rgb(247,251,255)\"],[0.125,\"rgb(222,235,247)\"],[0.25,\"rgb(198,219,239)\"],[0.375,\"rgb(158,202,225)\"],[0.5,\"rgb(107,174,214)\"],[0.625,\"rgb(66,146,198)\"],[0.75,\"rgb(33,113,181)\"],[0.875,\"rgb(8,81,156)\"],[1.0,\"rgb(8,48,107)\"]],\"locationmode\":\"USA-states\",\"locations\":[\"AL\",\"AL\",\"AL\",\"AL\",\"AL\",\"AL\",\"AL\",\"AL\",\"AK\",\"AZ\",\"AZ\",\"AZ\",\"AR\",\"AR\",\"AR\",\"AR\",\"AR\",\"AR\",\"AR\",\"AR\",\"CA\",\"CA\",\"CA\",\"CA\",\"CA\",\"CA\",\"CA\",\"CA\",\"CA\",\"CA\",\"CA\",\"CA\",\"CA\",\"CA\",\"CA\",\"CA\",\"CA\",\"CA\",\"CA\",\"CA\",\"CA\",\"CA\",\"CA\",\"CA\",\"CA\",\"CA\",\"CO\",\"CO\",\"CO\",\"CO\",\"CO\",\"CO\",\"CO\",\"CO\",\"CO\",null,null,null,null,null,null,null,null,null,\"FL\",\"FL\",\"FL\",\"FL\",\"FL\",\"FL\",\"FL\",\"FL\",\"FL\",\"FL\",\"FL\",\"FL\",\"GA\",\"GA\",\"GA\",\"GA\",\"GA\",\"GA\",\"GA\",\"GA\",\"GA\",\"GA\",\"GA\",\"GA\",\"GA\",\"GA\",\"GA\",\"GA\",null,\"ID\",\"ID\",\"ID\",\"IL\",\"IL\",\"IL\",\"IL\",\"IL\",\"IL\",\"IL\",\"IL\",\"IL\",\"IL\",\"IN\",\"IN\",\"IN\",\"IN\",\"IN\",\"IN\",\"IN\",\"IN\",\"IN\",\"IN\",\"IN\",\"IN\",\"IN\",\"IA\",\"IA\",\"IA\",\"IA\",\"IA\",\"IA\",\"IA\",\"IA\",\"IA\",\"IA\",\"IA\",\"IA\",\"IA\",\"KS\",\"KS\",\"KS\",\"KS\",\"KS\",\"KS\",\"KY\",\"KY\",\"KY\",\"KY\",\"KY\",\"KY\",\"KY\",\"KY\",\"KY\",\"KY\",\"KY\",\"LA\",\"LA\",\"LA\",\"LA\",\"LA\",\"LA\",\"LA\",\"LA\",null,null,null,null,null,null,null,null,null,null,null,null,null,null,null,null,null,null,null,\"MA\",\"MA\",\"MA\",\"MA\",\"MA\",\"MA\",\"MA\",\"MA\",\"MA\",\"MA\",\"MA\",\"MA\",\"MA\",\"MA\",\"MA\",\"MA\",\"MA\",\"MI\",\"MI\",\"MI\",\"MI\",\"MI\",\"MI\",\"MI\",\"MI\",\"MI\",\"MI\",\"MI\",\"MI\",\"MI\",\"MI\",\"MI\",\"MI\",\"MI\",\"MI\",\"MI\",\"MI\",\"MN\",\"MN\",\"MN\",\"MN\",\"MN\",\"MN\",\"MN\",\"MN\",\"MN\",\"MN\",\"MN\",\"MN\",\"MN\",\"MN\",null,null,null,null,null,null,null,null,null,null,null,null,null,null,\"MT\",\"MT\",\"MT\",\"NE\",\"NE\",\"NE\",\"NE\",\"NE\",\"NE\",\"NE\",\"NV\",\"NV\",null,null,null,null,null,null,null,\"NJ\",\"NJ\",\"NJ\",\"NJ\",\"NJ\",\"NJ\",\"NJ\",\"NJ\",\"NJ\",\"NJ\",\"NM\",\"NM\",\"NM\",\"NM\",\"NM\",\"NY\",\"NY\",\"NY\",\"NY\",\"NY\",\"NY\",\"NY\",\"NY\",\"NY\",\"NY\",\"NY\",\"NY\",\"NY\",\"NY\",\"NY\",\"NY\",\"NY\",\"NY\",\"NY\",\"NY\",\"NY\",\"NY\",\"NY\",\"NY\",\"NY\",\"NY\",\"NY\",\"NY\",\"NY\",\"NY\",\"NY\",\"NC\",\"NC\",\"NC\",\"NC\",\"NC\",\"NC\",\"NC\",\"NC\",\"NC\",\"NC\",\"NC\",\"NC\",\"NC\",\"NC\",\"NC\",\"NC\",\"NC\",\"NC\",\"ND\",\"ND\",\"OH\",\"OH\",\"OH\",\"OH\",\"OH\",\"OH\",\"OH\",\"OH\",\"OH\",\"OH\",\"OH\",\"OH\",\"OH\",\"OH\",\"OH\",\"OH\",\"OH\",\"OH\",\"OH\",\"OH\",\"OH\",\"OH\",\"OK\",\"OK\",\"OK\",\"OK\",\"OK\",\"OK\",\"OK\",\"OK\",\"OK\",\"OK\",\"OK\",\"OR\",\"OR\",\"OR\",\"OR\",\"OR\",\"OR\",\"OR\",\"OR\",\"OR\",\"OR\",\"PA\",\"PA\",\"PA\",\"PA\",\"PA\",\"PA\",\"PA\",\"PA\",\"PA\",\"PA\",\"PA\",\"PA\",\"PA\",\"PA\",\"PA\",\"PA\",\"PA\",\"PA\",\"PA\",\"PA\",\"PA\",\"PA\",\"PA\",\"PA\",\"PA\",\"PA\",\"PA\",\"PA\",\"PA\",\"PA\",\"PA\",\"PA\",\"PA\",\"PA\",\"PA\",\"PA\",\"PA\",\"PA\",\"PA\",\"PA\",\"PA\",\"PA\",\"PA\",null,null,\"SC\",\"SC\",\"SC\",\"SC\",\"SC\",\"SC\",\"SC\",\"SC\",\"SC\",\"SC\",\"SC\",\"SD\",\"SD\",\"SD\",\"SD\",null,null,null,null,null,null,null,null,null,null,null,null,null,\"TX\",\"TX\",\"TX\",\"TX\",\"TX\",\"TX\",\"TX\",\"TX\",\"TX\",\"TX\",\"TX\",\"TX\",\"TX\",\"TX\",\"TX\",\"TX\",\"TX\",\"TX\",\"TX\",\"TX\",\"TX\",\"TX\",\"UT\",\"UT\",\"UT\",\"UT\",\"UT\",\"UT\",null,null,null,null,null,null,\"VA\",\"VA\",\"VA\",\"VA\",\"VA\",\"VA\",\"VA\",\"VA\",\"VA\",\"VA\",\"VA\",\"VA\",\"WA\",\"WA\",\"WA\",\"WA\",\"WA\",\"WV\",\"WV\",\"WV\",\"WV\",\"WV\",\"WV\",\"WV\",\"WV\",\"WV\",\"WI\",\"WI\",\"WI\",\"WI\",\"WI\",\"WI\",\"WI\",\"WI\",\"WI\",\"WI\",\"WI\",\"WI\",\"WI\",\"WY\"],\"z\":[0.00015261350629530712,0.00015261350629530712,0.00015261350629530712,0.00015261350629530712,0.00015261350629530712,0.00015261350629530712,0.00015261350629530712,0.00015261350629530712,1.5028915633679198e-06,2.631809807877884e-05,2.631809807877884e-05,2.631809807877884e-05,0.00015043532221365577,0.00015043532221365577,0.00015043532221365577,0.00015043532221365577,0.00015043532221365577,0.00015043532221365577,0.00015043532221365577,0.00015043532221365577,0.0001588310038119441,0.0001588310038119441,0.0001588310038119441,0.0001588310038119441,0.0001588310038119441,0.0001588310038119441,0.0001588310038119441,0.0001588310038119441,0.0001588310038119441,0.0001588310038119441,0.0001588310038119441,0.0001588310038119441,0.0001588310038119441,0.0001588310038119441,0.0001588310038119441,0.0001588310038119441,0.0001588310038119441,0.0001588310038119441,0.0001588310038119441,0.0001588310038119441,0.0001588310038119441,0.0001588310038119441,0.0001588310038119441,0.0001588310038119441,0.0001588310038119441,0.0001588310038119441,8.638479627585545e-05,8.638479627585545e-05,8.638479627585545e-05,8.638479627585545e-05,8.638479627585545e-05,8.638479627585545e-05,8.638479627585545e-05,8.638479627585545e-05,8.638479627585545e-05,null,null,null,null,null,null,null,null,null,0.00018249007710205756,0.00018249007710205756,0.00018249007710205756,0.00018249007710205756,0.00018249007710205756,0.00018249007710205756,0.00018249007710205756,0.00018249007710205756,0.00018249007710205756,0.00018249007710205756,0.00018249007710205756,0.00018249007710205756,0.00026924694993689526,0.00026924694993689526,0.00026924694993689526,0.00026924694993689526,0.00026924694993689526,0.00026924694993689526,0.00026924694993689526,0.00026924694993689526,0.00026924694993689526,0.00026924694993689526,0.00026924694993689526,0.00026924694993689526,0.00026924694993689526,0.00026924694993689526,0.00026924694993689526,0.00026924694993689526,null,3.589847910110208e-05,3.589847910110208e-05,3.589847910110208e-05,0.00017266982076872604,0.00017266982076872604,0.00017266982076872604,0.00017266982076872604,0.00017266982076872604,0.00017266982076872604,0.00017266982076872604,0.00017266982076872604,0.00017266982076872604,0.00017266982076872604,0.000356946732564525,0.000356946732564525,0.000356946732564525,0.000356946732564525,0.000356946732564525,0.000356946732564525,0.000356946732564525,0.000356946732564525,0.000356946732564525,0.000356946732564525,0.000356946732564525,0.000356946732564525,0.000356946732564525,0.00023102075632641455,0.00023102075632641455,0.00023102075632641455,0.00023102075632641455,0.00023102075632641455,0.00023102075632641455,0.00023102075632641455,0.00023102075632641455,0.00023102075632641455,0.00023102075632641455,0.00023102075632641455,0.00023102075632641455,0.00023102075632641455,7.29235032450959e-05,7.29235032450959e-05,7.29235032450959e-05,7.29235032450959e-05,7.29235032450959e-05,7.29235032450959e-05,0.00027222332211443277,0.00027222332211443277,0.00027222332211443277,0.00027222332211443277,0.00027222332211443277,0.00027222332211443277,0.00027222332211443277,0.00027222332211443277,0.00027222332211443277,0.00027222332211443277,0.00027222332211443277,0.00015273588147695597,0.00015273588147695597,0.00015273588147695597,0.00015273588147695597,0.00015273588147695597,0.00015273588147695597,0.00015273588147695597,0.00015273588147695597,null,null,null,null,null,null,null,null,null,null,null,null,null,null,null,null,null,null,null,0.0016106110847939365,0.0016106110847939365,0.0016106110847939365,0.0016106110847939365,0.0016106110847939365,0.0016106110847939365,0.0016106110847939365,0.0016106110847939365,0.0016106110847939365,0.0016106110847939365,0.0016106110847939365,0.0016106110847939365,0.0016106110847939365,0.0016106110847939365,0.0016106110847939365,0.0016106110847939365,0.0016106110847939365,0.0002067952933391236,0.0002067952933391236,0.0002067952933391236,0.0002067952933391236,0.0002067952933391236,0.0002067952933391236,0.0002067952933391236,0.0002067952933391236,0.0002067952933391236,0.0002067952933391236,0.0002067952933391236,0.0002067952933391236,0.0002067952933391236,0.0002067952933391236,0.0002067952933391236,0.0002067952933391236,0.0002067952933391236,0.0002067952933391236,0.0002067952933391236,0.0002067952933391236,0.00016103800496917274,0.00016103800496917274,0.00016103800496917274,0.00016103800496917274,0.00016103800496917274,0.00016103800496917274,0.00016103800496917274,0.00016103800496917274,0.00016103800496917274,0.00016103800496917274,0.00016103800496917274,0.00016103800496917274,0.00016103800496917274,0.00016103800496917274,null,null,null,null,null,null,null,null,null,null,null,null,null,null,2.0402611534276386e-05,2.0402611534276386e-05,2.0402611534276386e-05,9.050007757149506e-05,9.050007757149506e-05,9.050007757149506e-05,9.050007757149506e-05,9.050007757149506e-05,9.050007757149506e-05,9.050007757149506e-05,1.8086943939517258e-05,1.8086943939517258e-05,null,null,null,null,null,null,null,0.0011463945890175398,0.0011463945890175398,0.0011463945890175398,0.0011463945890175398,0.0011463945890175398,0.0011463945890175398,0.0011463945890175398,0.0011463945890175398,0.0011463945890175398,0.0011463945890175398,4.112180277983387e-05,4.112180277983387e-05,4.112180277983387e-05,4.112180277983387e-05,4.112180277983387e-05,0.0005682443083916853,0.0005682443083916853,0.0005682443083916853,0.0005682443083916853,0.0005682443083916853,0.0005682443083916853,0.0005682443083916853,0.0005682443083916853,0.0005682443083916853,0.0005682443083916853,0.0005682443083916853,0.0005682443083916853,0.0005682443083916853,0.0005682443083916853,0.0005682443083916853,0.0005682443083916853,0.0005682443083916853,0.0005682443083916853,0.0005682443083916853,0.0005682443083916853,0.0005682443083916853,0.0005682443083916853,0.0005682443083916853,0.0005682443083916853,0.0005682443083916853,0.0005682443083916853,0.0005682443083916853,0.0005682443083916853,0.0005682443083916853,0.0005682443083916853,0.0005682443083916853,0.00033444194645212836,0.00033444194645212836,0.00033444194645212836,0.00033444194645212836,0.00033444194645212836,0.00033444194645212836,0.00033444194645212836,0.00033444194645212836,0.00033444194645212836,0.00033444194645212836,0.00033444194645212836,0.00033444194645212836,0.00033444194645212836,0.00033444194645212836,0.00033444194645212836,0.00033444194645212836,0.00033444194645212836,0.00033444194645212836,2.8262958566502742e-05,2.8262958566502742e-05,0.0004907865970642039,0.0004907865970642039,0.0004907865970642039,0.0004907865970642039,0.0004907865970642039,0.0004907865970642039,0.0004907865970642039,0.0004907865970642039,0.0004907865970642039,0.0004907865970642039,0.0004907865970642039,0.0004907865970642039,0.0004907865970642039,0.0004907865970642039,0.0004907865970642039,0.0004907865970642039,0.0004907865970642039,0.0004907865970642039,0.0004907865970642039,0.0004907865970642039,0.0004907865970642039,0.0004907865970642039,0.00015736991945521396,0.00015736991945521396,0.00015736991945521396,0.00015736991945521396,0.00015736991945521396,0.00015736991945521396,0.00015736991945521396,0.00015736991945521396,0.00015736991945521396,0.00015736991945521396,0.00015736991945521396,0.00010164564295951453,0.00010164564295951453,0.00010164564295951453,0.00010164564295951453,0.00010164564295951453,0.00010164564295951453,0.00010164564295951453,0.00010164564295951453,0.00010164564295951453,0.00010164564295951453,0.000933666268591901,0.000933666268591901,0.000933666268591901,0.000933666268591901,0.000933666268591901,0.000933666268591901,0.000933666268591901,0.000933666268591901,0.000933666268591901,0.000933666268591901,0.000933666268591901,0.000933666268591901,0.000933666268591901,0.000933666268591901,0.000933666268591901,0.000933666268591901,0.000933666268591901,0.000933666268591901,0.000933666268591901,0.000933666268591901,0.000933666268591901,0.000933666268591901,0.000933666268591901,0.000933666268591901,0.000933666268591901,0.000933666268591901,0.000933666268591901,0.000933666268591901,0.000933666268591901,0.000933666268591901,0.000933666268591901,0.000933666268591901,0.000933666268591901,0.000933666268591901,0.000933666268591901,0.000933666268591901,0.000933666268591901,0.000933666268591901,0.000933666268591901,0.000933666268591901,0.000933666268591901,0.000933666268591901,0.000933666268591901,null,null,0.00034353529044347283,0.00034353529044347283,0.00034353529044347283,0.00034353529044347283,0.00034353529044347283,0.00034353529044347283,0.00034353529044347283,0.00034353529044347283,0.00034353529044347283,0.00034353529044347283,0.00034353529044347283,5.186991026505524e-05,5.186991026505524e-05,5.186991026505524e-05,5.186991026505524e-05,null,null,null,null,null,null,null,null,null,null,null,null,null,8.190739996128013e-05,8.190739996128013e-05,8.190739996128013e-05,8.190739996128013e-05,8.190739996128013e-05,8.190739996128013e-05,8.190739996128013e-05,8.190739996128013e-05,8.190739996128013e-05,8.190739996128013e-05,8.190739996128013e-05,8.190739996128013e-05,8.190739996128013e-05,8.190739996128013e-05,8.190739996128013e-05,8.190739996128013e-05,8.190739996128013e-05,8.190739996128013e-05,8.190739996128013e-05,8.190739996128013e-05,8.190739996128013e-05,8.190739996128013e-05,7.067387540195766e-05,7.067387540195766e-05,7.067387540195766e-05,7.067387540195766e-05,7.067387540195766e-05,7.067387540195766e-05,null,null,null,null,null,null,0.0002805376972530684,0.0002805376972530684,0.0002805376972530684,0.0002805376972530684,0.0002805376972530684,0.0002805376972530684,0.0002805376972530684,0.0002805376972530684,0.0002805376972530684,0.0002805376972530684,0.0002805376972530684,0.0002805376972530684,7.00653008604019e-05,7.00653008604019e-05,7.00653008604019e-05,7.00653008604019e-05,7.00653008604019e-05,0.0003714250340472948,0.0003714250340472948,0.0003714250340472948,0.0003714250340472948,0.0003714250340472948,0.0003714250340472948,0.0003714250340472948,0.0003714250340472948,0.0003714250340472948,0.00019848540368877488,0.00019848540368877488,0.00019848540368877488,0.00019848540368877488,0.00019848540368877488,0.00019848540368877488,0.00019848540368877488,0.00019848540368877488,0.00019848540368877488,0.00019848540368877488,0.00019848540368877488,0.00019848540368877488,0.00019848540368877488,1.0223589911361476e-05],\"type\":\"choropleth\"}],                        {\"template\":{\"data\":{\"histogram2dcontour\":[{\"type\":\"histogram2dcontour\",\"colorbar\":{\"outlinewidth\":0,\"ticks\":\"\"},\"colorscale\":[[0.0,\"#0d0887\"],[0.1111111111111111,\"#46039f\"],[0.2222222222222222,\"#7201a8\"],[0.3333333333333333,\"#9c179e\"],[0.4444444444444444,\"#bd3786\"],[0.5555555555555556,\"#d8576b\"],[0.6666666666666666,\"#ed7953\"],[0.7777777777777778,\"#fb9f3a\"],[0.8888888888888888,\"#fdca26\"],[1.0,\"#f0f921\"]]}],\"choropleth\":[{\"type\":\"choropleth\",\"colorbar\":{\"outlinewidth\":0,\"ticks\":\"\"}}],\"histogram2d\":[{\"type\":\"histogram2d\",\"colorbar\":{\"outlinewidth\":0,\"ticks\":\"\"},\"colorscale\":[[0.0,\"#0d0887\"],[0.1111111111111111,\"#46039f\"],[0.2222222222222222,\"#7201a8\"],[0.3333333333333333,\"#9c179e\"],[0.4444444444444444,\"#bd3786\"],[0.5555555555555556,\"#d8576b\"],[0.6666666666666666,\"#ed7953\"],[0.7777777777777778,\"#fb9f3a\"],[0.8888888888888888,\"#fdca26\"],[1.0,\"#f0f921\"]]}],\"heatmap\":[{\"type\":\"heatmap\",\"colorbar\":{\"outlinewidth\":0,\"ticks\":\"\"},\"colorscale\":[[0.0,\"#0d0887\"],[0.1111111111111111,\"#46039f\"],[0.2222222222222222,\"#7201a8\"],[0.3333333333333333,\"#9c179e\"],[0.4444444444444444,\"#bd3786\"],[0.5555555555555556,\"#d8576b\"],[0.6666666666666666,\"#ed7953\"],[0.7777777777777778,\"#fb9f3a\"],[0.8888888888888888,\"#fdca26\"],[1.0,\"#f0f921\"]]}],\"heatmapgl\":[{\"type\":\"heatmapgl\",\"colorbar\":{\"outlinewidth\":0,\"ticks\":\"\"},\"colorscale\":[[0.0,\"#0d0887\"],[0.1111111111111111,\"#46039f\"],[0.2222222222222222,\"#7201a8\"],[0.3333333333333333,\"#9c179e\"],[0.4444444444444444,\"#bd3786\"],[0.5555555555555556,\"#d8576b\"],[0.6666666666666666,\"#ed7953\"],[0.7777777777777778,\"#fb9f3a\"],[0.8888888888888888,\"#fdca26\"],[1.0,\"#f0f921\"]]}],\"contourcarpet\":[{\"type\":\"contourcarpet\",\"colorbar\":{\"outlinewidth\":0,\"ticks\":\"\"}}],\"contour\":[{\"type\":\"contour\",\"colorbar\":{\"outlinewidth\":0,\"ticks\":\"\"},\"colorscale\":[[0.0,\"#0d0887\"],[0.1111111111111111,\"#46039f\"],[0.2222222222222222,\"#7201a8\"],[0.3333333333333333,\"#9c179e\"],[0.4444444444444444,\"#bd3786\"],[0.5555555555555556,\"#d8576b\"],[0.6666666666666666,\"#ed7953\"],[0.7777777777777778,\"#fb9f3a\"],[0.8888888888888888,\"#fdca26\"],[1.0,\"#f0f921\"]]}],\"surface\":[{\"type\":\"surface\",\"colorbar\":{\"outlinewidth\":0,\"ticks\":\"\"},\"colorscale\":[[0.0,\"#0d0887\"],[0.1111111111111111,\"#46039f\"],[0.2222222222222222,\"#7201a8\"],[0.3333333333333333,\"#9c179e\"],[0.4444444444444444,\"#bd3786\"],[0.5555555555555556,\"#d8576b\"],[0.6666666666666666,\"#ed7953\"],[0.7777777777777778,\"#fb9f3a\"],[0.8888888888888888,\"#fdca26\"],[1.0,\"#f0f921\"]]}],\"mesh3d\":[{\"type\":\"mesh3d\",\"colorbar\":{\"outlinewidth\":0,\"ticks\":\"\"}}],\"scatter\":[{\"fillpattern\":{\"fillmode\":\"overlay\",\"size\":10,\"solidity\":0.2},\"type\":\"scatter\"}],\"parcoords\":[{\"type\":\"parcoords\",\"line\":{\"colorbar\":{\"outlinewidth\":0,\"ticks\":\"\"}}}],\"scatterpolargl\":[{\"type\":\"scatterpolargl\",\"marker\":{\"colorbar\":{\"outlinewidth\":0,\"ticks\":\"\"}}}],\"bar\":[{\"error_x\":{\"color\":\"#2a3f5f\"},\"error_y\":{\"color\":\"#2a3f5f\"},\"marker\":{\"line\":{\"color\":\"#E5ECF6\",\"width\":0.5},\"pattern\":{\"fillmode\":\"overlay\",\"size\":10,\"solidity\":0.2}},\"type\":\"bar\"}],\"scattergeo\":[{\"type\":\"scattergeo\",\"marker\":{\"colorbar\":{\"outlinewidth\":0,\"ticks\":\"\"}}}],\"scatterpolar\":[{\"type\":\"scatterpolar\",\"marker\":{\"colorbar\":{\"outlinewidth\":0,\"ticks\":\"\"}}}],\"histogram\":[{\"marker\":{\"pattern\":{\"fillmode\":\"overlay\",\"size\":10,\"solidity\":0.2}},\"type\":\"histogram\"}],\"scattergl\":[{\"type\":\"scattergl\",\"marker\":{\"colorbar\":{\"outlinewidth\":0,\"ticks\":\"\"}}}],\"scatter3d\":[{\"type\":\"scatter3d\",\"line\":{\"colorbar\":{\"outlinewidth\":0,\"ticks\":\"\"}},\"marker\":{\"colorbar\":{\"outlinewidth\":0,\"ticks\":\"\"}}}],\"scattermapbox\":[{\"type\":\"scattermapbox\",\"marker\":{\"colorbar\":{\"outlinewidth\":0,\"ticks\":\"\"}}}],\"scatterternary\":[{\"type\":\"scatterternary\",\"marker\":{\"colorbar\":{\"outlinewidth\":0,\"ticks\":\"\"}}}],\"scattercarpet\":[{\"type\":\"scattercarpet\",\"marker\":{\"colorbar\":{\"outlinewidth\":0,\"ticks\":\"\"}}}],\"carpet\":[{\"aaxis\":{\"endlinecolor\":\"#2a3f5f\",\"gridcolor\":\"white\",\"linecolor\":\"white\",\"minorgridcolor\":\"white\",\"startlinecolor\":\"#2a3f5f\"},\"baxis\":{\"endlinecolor\":\"#2a3f5f\",\"gridcolor\":\"white\",\"linecolor\":\"white\",\"minorgridcolor\":\"white\",\"startlinecolor\":\"#2a3f5f\"},\"type\":\"carpet\"}],\"table\":[{\"cells\":{\"fill\":{\"color\":\"#EBF0F8\"},\"line\":{\"color\":\"white\"}},\"header\":{\"fill\":{\"color\":\"#C8D4E3\"},\"line\":{\"color\":\"white\"}},\"type\":\"table\"}],\"barpolar\":[{\"marker\":{\"line\":{\"color\":\"#E5ECF6\",\"width\":0.5},\"pattern\":{\"fillmode\":\"overlay\",\"size\":10,\"solidity\":0.2}},\"type\":\"barpolar\"}],\"pie\":[{\"automargin\":true,\"type\":\"pie\"}]},\"layout\":{\"autotypenumbers\":\"strict\",\"colorway\":[\"#636efa\",\"#EF553B\",\"#00cc96\",\"#ab63fa\",\"#FFA15A\",\"#19d3f3\",\"#FF6692\",\"#B6E880\",\"#FF97FF\",\"#FECB52\"],\"font\":{\"color\":\"#2a3f5f\"},\"hovermode\":\"closest\",\"hoverlabel\":{\"align\":\"left\"},\"paper_bgcolor\":\"white\",\"plot_bgcolor\":\"#E5ECF6\",\"polar\":{\"bgcolor\":\"#E5ECF6\",\"angularaxis\":{\"gridcolor\":\"white\",\"linecolor\":\"white\",\"ticks\":\"\"},\"radialaxis\":{\"gridcolor\":\"white\",\"linecolor\":\"white\",\"ticks\":\"\"}},\"ternary\":{\"bgcolor\":\"#E5ECF6\",\"aaxis\":{\"gridcolor\":\"white\",\"linecolor\":\"white\",\"ticks\":\"\"},\"baxis\":{\"gridcolor\":\"white\",\"linecolor\":\"white\",\"ticks\":\"\"},\"caxis\":{\"gridcolor\":\"white\",\"linecolor\":\"white\",\"ticks\":\"\"}},\"coloraxis\":{\"colorbar\":{\"outlinewidth\":0,\"ticks\":\"\"}},\"colorscale\":{\"sequential\":[[0.0,\"#0d0887\"],[0.1111111111111111,\"#46039f\"],[0.2222222222222222,\"#7201a8\"],[0.3333333333333333,\"#9c179e\"],[0.4444444444444444,\"#bd3786\"],[0.5555555555555556,\"#d8576b\"],[0.6666666666666666,\"#ed7953\"],[0.7777777777777778,\"#fb9f3a\"],[0.8888888888888888,\"#fdca26\"],[1.0,\"#f0f921\"]],\"sequentialminus\":[[0.0,\"#0d0887\"],[0.1111111111111111,\"#46039f\"],[0.2222222222222222,\"#7201a8\"],[0.3333333333333333,\"#9c179e\"],[0.4444444444444444,\"#bd3786\"],[0.5555555555555556,\"#d8576b\"],[0.6666666666666666,\"#ed7953\"],[0.7777777777777778,\"#fb9f3a\"],[0.8888888888888888,\"#fdca26\"],[1.0,\"#f0f921\"]],\"diverging\":[[0,\"#8e0152\"],[0.1,\"#c51b7d\"],[0.2,\"#de77ae\"],[0.3,\"#f1b6da\"],[0.4,\"#fde0ef\"],[0.5,\"#f7f7f7\"],[0.6,\"#e6f5d0\"],[0.7,\"#b8e186\"],[0.8,\"#7fbc41\"],[0.9,\"#4d9221\"],[1,\"#276419\"]]},\"xaxis\":{\"gridcolor\":\"white\",\"linecolor\":\"white\",\"ticks\":\"\",\"title\":{\"standoff\":15},\"zerolinecolor\":\"white\",\"automargin\":true,\"zerolinewidth\":2},\"yaxis\":{\"gridcolor\":\"white\",\"linecolor\":\"white\",\"ticks\":\"\",\"title\":{\"standoff\":15},\"zerolinecolor\":\"white\",\"automargin\":true,\"zerolinewidth\":2},\"scene\":{\"xaxis\":{\"backgroundcolor\":\"#E5ECF6\",\"gridcolor\":\"white\",\"linecolor\":\"white\",\"showbackground\":true,\"ticks\":\"\",\"zerolinecolor\":\"white\",\"gridwidth\":2},\"yaxis\":{\"backgroundcolor\":\"#E5ECF6\",\"gridcolor\":\"white\",\"linecolor\":\"white\",\"showbackground\":true,\"ticks\":\"\",\"zerolinecolor\":\"white\",\"gridwidth\":2},\"zaxis\":{\"backgroundcolor\":\"#E5ECF6\",\"gridcolor\":\"white\",\"linecolor\":\"white\",\"showbackground\":true,\"ticks\":\"\",\"zerolinecolor\":\"white\",\"gridwidth\":2}},\"shapedefaults\":{\"line\":{\"color\":\"#2a3f5f\"}},\"annotationdefaults\":{\"arrowcolor\":\"#2a3f5f\",\"arrowhead\":0,\"arrowwidth\":1},\"geo\":{\"bgcolor\":\"white\",\"landcolor\":\"#E5ECF6\",\"subunitcolor\":\"white\",\"showland\":true,\"showlakes\":true,\"lakecolor\":\"white\"},\"title\":{\"x\":0.05},\"mapbox\":{\"style\":\"light\"}}},\"title\":{\"text\":\"Universities in the States\"},\"geo\":{\"scope\":\"usa\"}},                        {\"responsive\": true}                    ).then(function(){\n",
              "                            \n",
              "var gd = document.getElementById('ad99d787-fbe0-4613-b4ce-66de0940b40d');\n",
              "var x = new MutationObserver(function (mutations, observer) {{\n",
              "        var display = window.getComputedStyle(gd).display;\n",
              "        if (!display || display === 'none') {{\n",
              "            console.log([gd, 'removed!']);\n",
              "            Plotly.purge(gd);\n",
              "            observer.disconnect();\n",
              "        }}\n",
              "}});\n",
              "\n",
              "// Listen for the removal of the full notebook cells\n",
              "var notebookContainer = gd.closest('#notebook-container');\n",
              "if (notebookContainer) {{\n",
              "    x.observe(notebookContainer, {childList: true});\n",
              "}}\n",
              "\n",
              "// Listen for the clearing of the current output cell\n",
              "var outputEl = gd.closest('.output');\n",
              "if (outputEl) {{\n",
              "    x.observe(outputEl, {childList: true});\n",
              "}}\n",
              "\n",
              "                        })                };                            </script>        </div>\n",
              "</body>\n",
              "</html>"
            ]
          },
          "metadata": {}
        }
      ]
    },
    {
      "cell_type": "code",
      "source": [
        "import plotly.graph_objects as go\n",
        "import pandas as pd\n",
        "\n",
        "fig = go.Figure(data=go.Choropleth(\n",
        "\tlocations=df['State Abbreviation'],\n",
        "\tz = df['Universities per Person'],\n",
        "\tlocationmode = 'USA-states',\n",
        "\tcolorscale = 'Reds',\n",
        "\tcolorbar_title = 'Universities per Person'\n",
        "))\n",
        "\n",
        "fig.update_layout(title_text = 'Universities in the States', geo_scope = 'usa')\n",
        "fig.show()"
      ],
      "metadata": {
        "colab": {
          "base_uri": "https://localhost:8080/",
          "height": 542
        },
        "id": "SHcfdV0o4MnT",
        "outputId": "1673fbfc-a1cd-45b4-e549-b16c2d1db095"
      },
      "execution_count": 86,
      "outputs": [
        {
          "output_type": "display_data",
          "data": {
            "text/html": [
              "<html>\n",
              "<head><meta charset=\"utf-8\" /></head>\n",
              "<body>\n",
              "    <div>            <script src=\"https://cdnjs.cloudflare.com/ajax/libs/mathjax/2.7.5/MathJax.js?config=TeX-AMS-MML_SVG\"></script><script type=\"text/javascript\">if (window.MathJax && window.MathJax.Hub && window.MathJax.Hub.Config) {window.MathJax.Hub.Config({SVG: {font: \"STIX-Web\"}});}</script>                <script type=\"text/javascript\">window.PlotlyConfig = {MathJaxConfig: 'local'};</script>\n",
              "        <script src=\"https://cdn.plot.ly/plotly-2.18.2.min.js\"></script>                <div id=\"26896c12-527c-47e0-979d-165e8e71393a\" class=\"plotly-graph-div\" style=\"height:525px; width:100%;\"></div>            <script type=\"text/javascript\">                                    window.PLOTLYENV=window.PLOTLYENV || {};                                    if (document.getElementById(\"26896c12-527c-47e0-979d-165e8e71393a\")) {                    Plotly.newPlot(                        \"26896c12-527c-47e0-979d-165e8e71393a\",                        [{\"colorbar\":{\"title\":{\"text\":\"Universities per Person\"}},\"colorscale\":[[0.0,\"rgb(255,245,240)\"],[0.125,\"rgb(254,224,210)\"],[0.25,\"rgb(252,187,161)\"],[0.375,\"rgb(252,146,114)\"],[0.5,\"rgb(251,106,74)\"],[0.625,\"rgb(239,59,44)\"],[0.75,\"rgb(203,24,29)\"],[0.875,\"rgb(165,15,21)\"],[1.0,\"rgb(103,0,13)\"]],\"locationmode\":\"USA-states\",\"locations\":[\"AL\",\"AL\",\"AL\",\"AL\",\"AL\",\"AL\",\"AL\",\"AL\",\"AK\",\"AZ\",\"AZ\",\"AZ\",\"AR\",\"AR\",\"AR\",\"AR\",\"AR\",\"AR\",\"AR\",\"AR\",\"CA\",\"CA\",\"CA\",\"CA\",\"CA\",\"CA\",\"CA\",\"CA\",\"CA\",\"CA\",\"CA\",\"CA\",\"CA\",\"CA\",\"CA\",\"CA\",\"CA\",\"CA\",\"CA\",\"CA\",\"CA\",\"CA\",\"CA\",\"CA\",\"CA\",\"CA\",\"CO\",\"CO\",\"CO\",\"CO\",\"CO\",\"CO\",\"CO\",\"CO\",\"CO\",null,null,null,null,null,null,null,null,null,\"FL\",\"FL\",\"FL\",\"FL\",\"FL\",\"FL\",\"FL\",\"FL\",\"FL\",\"FL\",\"FL\",\"FL\",\"GA\",\"GA\",\"GA\",\"GA\",\"GA\",\"GA\",\"GA\",\"GA\",\"GA\",\"GA\",\"GA\",\"GA\",\"GA\",\"GA\",\"GA\",\"GA\",null,\"ID\",\"ID\",\"ID\",\"IL\",\"IL\",\"IL\",\"IL\",\"IL\",\"IL\",\"IL\",\"IL\",\"IL\",\"IL\",\"IN\",\"IN\",\"IN\",\"IN\",\"IN\",\"IN\",\"IN\",\"IN\",\"IN\",\"IN\",\"IN\",\"IN\",\"IN\",\"IA\",\"IA\",\"IA\",\"IA\",\"IA\",\"IA\",\"IA\",\"IA\",\"IA\",\"IA\",\"IA\",\"IA\",\"IA\",\"KS\",\"KS\",\"KS\",\"KS\",\"KS\",\"KS\",\"KY\",\"KY\",\"KY\",\"KY\",\"KY\",\"KY\",\"KY\",\"KY\",\"KY\",\"KY\",\"KY\",\"LA\",\"LA\",\"LA\",\"LA\",\"LA\",\"LA\",\"LA\",\"LA\",null,null,null,null,null,null,null,null,null,null,null,null,null,null,null,null,null,null,null,\"MA\",\"MA\",\"MA\",\"MA\",\"MA\",\"MA\",\"MA\",\"MA\",\"MA\",\"MA\",\"MA\",\"MA\",\"MA\",\"MA\",\"MA\",\"MA\",\"MA\",\"MI\",\"MI\",\"MI\",\"MI\",\"MI\",\"MI\",\"MI\",\"MI\",\"MI\",\"MI\",\"MI\",\"MI\",\"MI\",\"MI\",\"MI\",\"MI\",\"MI\",\"MI\",\"MI\",\"MI\",\"MN\",\"MN\",\"MN\",\"MN\",\"MN\",\"MN\",\"MN\",\"MN\",\"MN\",\"MN\",\"MN\",\"MN\",\"MN\",\"MN\",null,null,null,null,null,null,null,null,null,null,null,null,null,null,\"MT\",\"MT\",\"MT\",\"NE\",\"NE\",\"NE\",\"NE\",\"NE\",\"NE\",\"NE\",\"NV\",\"NV\",null,null,null,null,null,null,null,\"NJ\",\"NJ\",\"NJ\",\"NJ\",\"NJ\",\"NJ\",\"NJ\",\"NJ\",\"NJ\",\"NJ\",\"NM\",\"NM\",\"NM\",\"NM\",\"NM\",\"NY\",\"NY\",\"NY\",\"NY\",\"NY\",\"NY\",\"NY\",\"NY\",\"NY\",\"NY\",\"NY\",\"NY\",\"NY\",\"NY\",\"NY\",\"NY\",\"NY\",\"NY\",\"NY\",\"NY\",\"NY\",\"NY\",\"NY\",\"NY\",\"NY\",\"NY\",\"NY\",\"NY\",\"NY\",\"NY\",\"NY\",\"NC\",\"NC\",\"NC\",\"NC\",\"NC\",\"NC\",\"NC\",\"NC\",\"NC\",\"NC\",\"NC\",\"NC\",\"NC\",\"NC\",\"NC\",\"NC\",\"NC\",\"NC\",\"ND\",\"ND\",\"OH\",\"OH\",\"OH\",\"OH\",\"OH\",\"OH\",\"OH\",\"OH\",\"OH\",\"OH\",\"OH\",\"OH\",\"OH\",\"OH\",\"OH\",\"OH\",\"OH\",\"OH\",\"OH\",\"OH\",\"OH\",\"OH\",\"OK\",\"OK\",\"OK\",\"OK\",\"OK\",\"OK\",\"OK\",\"OK\",\"OK\",\"OK\",\"OK\",\"OR\",\"OR\",\"OR\",\"OR\",\"OR\",\"OR\",\"OR\",\"OR\",\"OR\",\"OR\",\"PA\",\"PA\",\"PA\",\"PA\",\"PA\",\"PA\",\"PA\",\"PA\",\"PA\",\"PA\",\"PA\",\"PA\",\"PA\",\"PA\",\"PA\",\"PA\",\"PA\",\"PA\",\"PA\",\"PA\",\"PA\",\"PA\",\"PA\",\"PA\",\"PA\",\"PA\",\"PA\",\"PA\",\"PA\",\"PA\",\"PA\",\"PA\",\"PA\",\"PA\",\"PA\",\"PA\",\"PA\",\"PA\",\"PA\",\"PA\",\"PA\",\"PA\",\"PA\",null,null,\"SC\",\"SC\",\"SC\",\"SC\",\"SC\",\"SC\",\"SC\",\"SC\",\"SC\",\"SC\",\"SC\",\"SD\",\"SD\",\"SD\",\"SD\",null,null,null,null,null,null,null,null,null,null,null,null,null,\"TX\",\"TX\",\"TX\",\"TX\",\"TX\",\"TX\",\"TX\",\"TX\",\"TX\",\"TX\",\"TX\",\"TX\",\"TX\",\"TX\",\"TX\",\"TX\",\"TX\",\"TX\",\"TX\",\"TX\",\"TX\",\"TX\",\"UT\",\"UT\",\"UT\",\"UT\",\"UT\",\"UT\",null,null,null,null,null,null,\"VA\",\"VA\",\"VA\",\"VA\",\"VA\",\"VA\",\"VA\",\"VA\",\"VA\",\"VA\",\"VA\",\"VA\",\"WA\",\"WA\",\"WA\",\"WA\",\"WA\",\"WV\",\"WV\",\"WV\",\"WV\",\"WV\",\"WV\",\"WV\",\"WV\",\"WV\",\"WI\",\"WI\",\"WI\",\"WI\",\"WI\",\"WI\",\"WI\",\"WI\",\"WI\",\"WI\",\"WI\",\"WI\",\"WI\",\"WY\"],\"z\":[1.6315925260825361e-06,1.6315925260825361e-06,1.6315925260825361e-06,1.6315925260825361e-06,1.6315925260825361e-06,1.6315925260825361e-06,1.6315925260825361e-06,1.6315925260825361e-06,1.366969906157516e-06,4.121605497232548e-07,4.121605497232548e-07,4.121605497232548e-07,2.6509342555049966e-06,2.6509342555049966e-06,2.6509342555049966e-06,2.6509342555049966e-06,2.6509342555049966e-06,2.6509342555049966e-06,2.6509342555049966e-06,2.6509342555049966e-06,6.575915159363637e-07,6.575915159363637e-07,6.575915159363637e-07,6.575915159363637e-07,6.575915159363637e-07,6.575915159363637e-07,6.575915159363637e-07,6.575915159363637e-07,6.575915159363637e-07,6.575915159363637e-07,6.575915159363637e-07,6.575915159363637e-07,6.575915159363637e-07,6.575915159363637e-07,6.575915159363637e-07,6.575915159363637e-07,6.575915159363637e-07,6.575915159363637e-07,6.575915159363637e-07,6.575915159363637e-07,6.575915159363637e-07,6.575915159363637e-07,6.575915159363637e-07,6.575915159363637e-07,6.575915159363637e-07,6.575915159363637e-07,1.5550514117275066e-06,1.5550514117275066e-06,1.5550514117275066e-06,1.5550514117275066e-06,1.5550514117275066e-06,1.5550514117275066e-06,1.5550514117275066e-06,1.5550514117275066e-06,1.5550514117275066e-06,null,null,null,null,null,null,null,null,null,5.571499588150108e-07,5.571499588150108e-07,5.571499588150108e-07,5.571499588150108e-07,5.571499588150108e-07,5.571499588150108e-07,5.571499588150108e-07,5.571499588150108e-07,5.571499588150108e-07,5.571499588150108e-07,5.571499588150108e-07,5.571499588150108e-07,1.4936648074273977e-06,1.4936648074273977e-06,1.4936648074273977e-06,1.4936648074273977e-06,1.4936648074273977e-06,1.4936648074273977e-06,1.4936648074273977e-06,1.4936648074273977e-06,1.4936648074273977e-06,1.4936648074273977e-06,1.4936648074273977e-06,1.4936648074273977e-06,1.4936648074273977e-06,1.4936648074273977e-06,1.4936648074273977e-06,1.4936648074273977e-06,null,1.6427950295593586e-06,1.6427950295593586e-06,1.6427950295593586e-06,7.891525614195466e-07,7.891525614195466e-07,7.891525614195466e-07,7.891525614195466e-07,7.891525614195466e-07,7.891525614195466e-07,7.891525614195466e-07,7.891525614195466e-07,7.891525614195466e-07,7.891525614195466e-07,1.931012642339769e-06,1.931012642339769e-06,1.931012642339769e-06,1.931012642339769e-06,1.931012642339769e-06,1.931012642339769e-06,1.931012642339769e-06,1.931012642339769e-06,1.931012642339769e-06,1.931012642339769e-06,1.931012642339769e-06,1.931012642339769e-06,1.931012642339769e-06,4.120352321818533e-06,4.120352321818533e-06,4.120352321818533e-06,4.120352321818533e-06,4.120352321818533e-06,4.120352321818533e-06,4.120352321818533e-06,4.120352321818533e-06,4.120352321818533e-06,4.120352321818533e-06,4.120352321818533e-06,4.120352321818533e-06,4.120352321818533e-06,2.0595102347361114e-06,2.0595102347361114e-06,2.0595102347361114e-06,2.0595102347361114e-06,2.0595102347361114e-06,2.0595102347361114e-06,2.462131852532627e-06,2.462131852532627e-06,2.462131852532627e-06,2.462131852532627e-06,2.462131852532627e-06,2.462131852532627e-06,2.462131852532627e-06,2.462131852532627e-06,2.462131852532627e-06,2.462131852532627e-06,2.462131852532627e-06,1.720876425154567e-06,1.720876425154567e-06,1.720876425154567e-06,1.720876425154567e-06,1.720876425154567e-06,1.720876425154567e-06,1.720876425154567e-06,1.720876425154567e-06,null,null,null,null,null,null,null,null,null,null,null,null,null,null,null,null,null,null,null,2.466447965274734e-06,2.466447965274734e-06,2.466447965274734e-06,2.466447965274734e-06,2.466447965274734e-06,2.466447965274734e-06,2.466447965274734e-06,2.466447965274734e-06,2.466447965274734e-06,2.466447965274734e-06,2.466447965274734e-06,2.466447965274734e-06,2.466447965274734e-06,2.466447965274734e-06,2.466447965274734e-06,2.466447965274734e-06,2.466447965274734e-06,2.0026320593155584e-06,2.0026320593155584e-06,2.0026320593155584e-06,2.0026320593155584e-06,2.0026320593155584e-06,2.0026320593155584e-06,2.0026320593155584e-06,2.0026320593155584e-06,2.0026320593155584e-06,2.0026320593155584e-06,2.0026320593155584e-06,2.0026320593155584e-06,2.0026320593155584e-06,2.0026320593155584e-06,2.0026320593155584e-06,2.0026320593155584e-06,2.0026320593155584e-06,2.0026320593155584e-06,2.0026320593155584e-06,2.0026320593155584e-06,2.482431477798551e-06,2.482431477798551e-06,2.482431477798551e-06,2.482431477798551e-06,2.482431477798551e-06,2.482431477798551e-06,2.482431477798551e-06,2.482431477798551e-06,2.482431477798551e-06,2.482431477798551e-06,2.482431477798551e-06,2.482431477798551e-06,2.482431477798551e-06,2.482431477798551e-06,null,null,null,null,null,null,null,null,null,null,null,null,null,null,2.806944005209688e-06,2.806944005209688e-06,2.806944005209688e-06,3.6186781692383408e-06,3.6186781692383408e-06,3.6186781692383408e-06,3.6186781692383408e-06,3.6186781692383408e-06,3.6186781692383408e-06,3.6186781692383408e-06,6.493177618276477e-07,6.493177618276477e-07,null,null,null,null,null,null,null,1.0765428419912857e-06,1.0765428419912857e-06,1.0765428419912857e-06,1.0765428419912857e-06,1.0765428419912857e-06,1.0765428419912857e-06,1.0765428419912857e-06,1.0765428419912857e-06,1.0765428419912857e-06,1.0765428419912857e-06,2.361250556074506e-06,2.361250556074506e-06,2.361250556074506e-06,2.361250556074506e-06,2.361250556074506e-06,1.5345585810065506e-06,1.5345585810065506e-06,1.5345585810065506e-06,1.5345585810065506e-06,1.5345585810065506e-06,1.5345585810065506e-06,1.5345585810065506e-06,1.5345585810065506e-06,1.5345585810065506e-06,1.5345585810065506e-06,1.5345585810065506e-06,1.5345585810065506e-06,1.5345585810065506e-06,1.5345585810065506e-06,1.5345585810065506e-06,1.5345585810065506e-06,1.5345585810065506e-06,1.5345585810065506e-06,1.5345585810065506e-06,1.5345585810065506e-06,1.5345585810065506e-06,1.5345585810065506e-06,1.5345585810065506e-06,1.5345585810065506e-06,1.5345585810065506e-06,1.5345585810065506e-06,1.5345585810065506e-06,1.5345585810065506e-06,1.5345585810065506e-06,1.5345585810065506e-06,1.5345585810065506e-06,1.7242390071142102e-06,1.7242390071142102e-06,1.7242390071142102e-06,1.7242390071142102e-06,1.7242390071142102e-06,1.7242390071142102e-06,1.7242390071142102e-06,1.7242390071142102e-06,1.7242390071142102e-06,1.7242390071142102e-06,1.7242390071142102e-06,1.7242390071142102e-06,1.7242390071142102e-06,1.7242390071142102e-06,1.7242390071142102e-06,1.7242390071142102e-06,1.7242390071142102e-06,1.7242390071142102e-06,2.5670843312873673e-06,2.5670843312873673e-06,1.8820952853513102e-06,1.8820952853513102e-06,1.8820952853513102e-06,1.8820952853513102e-06,1.8820952853513102e-06,1.8820952853513102e-06,1.8820952853513102e-06,1.8820952853513102e-06,1.8820952853513102e-06,1.8820952853513102e-06,1.8820952853513102e-06,1.8820952853513102e-06,1.8820952853513102e-06,1.8820952853513102e-06,1.8820952853513102e-06,1.8820952853513102e-06,1.8820952853513102e-06,1.8820952853513102e-06,1.8820952853513102e-06,1.8820952853513102e-06,1.8820952853513102e-06,1.8820952853513102e-06,2.7821179520384616e-07,2.7821179520384616e-07,2.7821179520384616e-07,2.7821179520384616e-07,2.7821179520384616e-07,2.7821179520384616e-07,2.7821179520384616e-07,2.7821179520384616e-07,2.7821179520384616e-07,2.7821179520384616e-07,2.7821179520384616e-07,2.357655377741187e-06,2.357655377741187e-06,2.357655377741187e-06,2.357655377741187e-06,2.357655377741187e-06,2.357655377741187e-06,2.357655377741187e-06,2.357655377741187e-06,2.357655377741187e-06,2.357655377741187e-06,3.3588530657228342e-06,3.3588530657228342e-06,3.3588530657228342e-06,3.3588530657228342e-06,3.3588530657228342e-06,3.3588530657228342e-06,3.3588530657228342e-06,3.3588530657228342e-06,3.3588530657228342e-06,3.3588530657228342e-06,3.3588530657228342e-06,3.3588530657228342e-06,3.3588530657228342e-06,3.3588530657228342e-06,3.3588530657228342e-06,3.3588530657228342e-06,3.3588530657228342e-06,3.3588530657228342e-06,3.3588530657228342e-06,3.3588530657228342e-06,3.3588530657228342e-06,3.3588530657228342e-06,3.3588530657228342e-06,3.3588530657228342e-06,3.3588530657228342e-06,3.3588530657228342e-06,3.3588530657228342e-06,3.3588530657228342e-06,3.3588530657228342e-06,3.3588530657228342e-06,3.3588530657228342e-06,3.3588530657228342e-06,3.3588530657228342e-06,3.3588530657228342e-06,3.3588530657228342e-06,3.3588530657228342e-06,3.3588530657228342e-06,3.3588530657228342e-06,3.3588530657228342e-06,3.3588530657228342e-06,3.3588530657228342e-06,3.3588530657228342e-06,3.3588530657228342e-06,null,null,2.136455821783847e-06,2.136455821783847e-06,2.136455821783847e-06,2.136455821783847e-06,2.136455821783847e-06,2.136455821783847e-06,2.136455821783847e-06,2.136455821783847e-06,2.136455821783847e-06,2.136455821783847e-06,2.136455821783847e-06,4.521516200027355e-06,4.521516200027355e-06,4.521516200027355e-06,4.521516200027355e-06,null,null,null,null,null,null,null,null,null,null,null,null,null,7.587284552588694e-07,7.587284552588694e-07,7.587284552588694e-07,7.587284552588694e-07,7.587284552588694e-07,7.587284552588694e-07,7.587284552588694e-07,7.587284552588694e-07,7.587284552588694e-07,7.587284552588694e-07,7.587284552588694e-07,7.587284552588694e-07,7.587284552588694e-07,7.587284552588694e-07,7.587284552588694e-07,7.587284552588694e-07,7.587284552588694e-07,7.587284552588694e-07,7.587284552588694e-07,7.587284552588694e-07,7.587284552588694e-07,7.587284552588694e-07,1.8715154721303272e-06,1.8715154721303272e-06,1.8715154721303272e-06,1.8715154721303272e-06,1.8715154721303272e-06,1.8715154721303272e-06,null,null,null,null,null,null,1.405889905464448e-06,1.405889905464448e-06,1.405889905464448e-06,1.405889905464448e-06,1.405889905464448e-06,1.405889905464448e-06,1.405889905464448e-06,1.405889905464448e-06,1.405889905464448e-06,1.405889905464448e-06,1.405889905464448e-06,1.405889905464448e-06,6.498898046847177e-07,6.498898046847177e-07,6.498898046847177e-07,6.498898046847177e-07,6.498898046847177e-07,5.021909475059803e-06,5.021909475059803e-06,5.021909475059803e-06,5.021909475059803e-06,5.021909475059803e-06,5.021909475059803e-06,5.021909475059803e-06,5.021909475059803e-06,5.021909475059803e-06,2.2327432135770024e-06,2.2327432135770024e-06,2.2327432135770024e-06,2.2327432135770024e-06,2.2327432135770024e-06,2.2327432135770024e-06,2.2327432135770024e-06,2.2327432135770024e-06,2.2327432135770024e-06,2.2327432135770024e-06,2.2327432135770024e-06,2.2327432135770024e-06,2.2327432135770024e-06,1.7278349019194518e-06],\"type\":\"choropleth\"}],                        {\"template\":{\"data\":{\"histogram2dcontour\":[{\"type\":\"histogram2dcontour\",\"colorbar\":{\"outlinewidth\":0,\"ticks\":\"\"},\"colorscale\":[[0.0,\"#0d0887\"],[0.1111111111111111,\"#46039f\"],[0.2222222222222222,\"#7201a8\"],[0.3333333333333333,\"#9c179e\"],[0.4444444444444444,\"#bd3786\"],[0.5555555555555556,\"#d8576b\"],[0.6666666666666666,\"#ed7953\"],[0.7777777777777778,\"#fb9f3a\"],[0.8888888888888888,\"#fdca26\"],[1.0,\"#f0f921\"]]}],\"choropleth\":[{\"type\":\"choropleth\",\"colorbar\":{\"outlinewidth\":0,\"ticks\":\"\"}}],\"histogram2d\":[{\"type\":\"histogram2d\",\"colorbar\":{\"outlinewidth\":0,\"ticks\":\"\"},\"colorscale\":[[0.0,\"#0d0887\"],[0.1111111111111111,\"#46039f\"],[0.2222222222222222,\"#7201a8\"],[0.3333333333333333,\"#9c179e\"],[0.4444444444444444,\"#bd3786\"],[0.5555555555555556,\"#d8576b\"],[0.6666666666666666,\"#ed7953\"],[0.7777777777777778,\"#fb9f3a\"],[0.8888888888888888,\"#fdca26\"],[1.0,\"#f0f921\"]]}],\"heatmap\":[{\"type\":\"heatmap\",\"colorbar\":{\"outlinewidth\":0,\"ticks\":\"\"},\"colorscale\":[[0.0,\"#0d0887\"],[0.1111111111111111,\"#46039f\"],[0.2222222222222222,\"#7201a8\"],[0.3333333333333333,\"#9c179e\"],[0.4444444444444444,\"#bd3786\"],[0.5555555555555556,\"#d8576b\"],[0.6666666666666666,\"#ed7953\"],[0.7777777777777778,\"#fb9f3a\"],[0.8888888888888888,\"#fdca26\"],[1.0,\"#f0f921\"]]}],\"heatmapgl\":[{\"type\":\"heatmapgl\",\"colorbar\":{\"outlinewidth\":0,\"ticks\":\"\"},\"colorscale\":[[0.0,\"#0d0887\"],[0.1111111111111111,\"#46039f\"],[0.2222222222222222,\"#7201a8\"],[0.3333333333333333,\"#9c179e\"],[0.4444444444444444,\"#bd3786\"],[0.5555555555555556,\"#d8576b\"],[0.6666666666666666,\"#ed7953\"],[0.7777777777777778,\"#fb9f3a\"],[0.8888888888888888,\"#fdca26\"],[1.0,\"#f0f921\"]]}],\"contourcarpet\":[{\"type\":\"contourcarpet\",\"colorbar\":{\"outlinewidth\":0,\"ticks\":\"\"}}],\"contour\":[{\"type\":\"contour\",\"colorbar\":{\"outlinewidth\":0,\"ticks\":\"\"},\"colorscale\":[[0.0,\"#0d0887\"],[0.1111111111111111,\"#46039f\"],[0.2222222222222222,\"#7201a8\"],[0.3333333333333333,\"#9c179e\"],[0.4444444444444444,\"#bd3786\"],[0.5555555555555556,\"#d8576b\"],[0.6666666666666666,\"#ed7953\"],[0.7777777777777778,\"#fb9f3a\"],[0.8888888888888888,\"#fdca26\"],[1.0,\"#f0f921\"]]}],\"surface\":[{\"type\":\"surface\",\"colorbar\":{\"outlinewidth\":0,\"ticks\":\"\"},\"colorscale\":[[0.0,\"#0d0887\"],[0.1111111111111111,\"#46039f\"],[0.2222222222222222,\"#7201a8\"],[0.3333333333333333,\"#9c179e\"],[0.4444444444444444,\"#bd3786\"],[0.5555555555555556,\"#d8576b\"],[0.6666666666666666,\"#ed7953\"],[0.7777777777777778,\"#fb9f3a\"],[0.8888888888888888,\"#fdca26\"],[1.0,\"#f0f921\"]]}],\"mesh3d\":[{\"type\":\"mesh3d\",\"colorbar\":{\"outlinewidth\":0,\"ticks\":\"\"}}],\"scatter\":[{\"fillpattern\":{\"fillmode\":\"overlay\",\"size\":10,\"solidity\":0.2},\"type\":\"scatter\"}],\"parcoords\":[{\"type\":\"parcoords\",\"line\":{\"colorbar\":{\"outlinewidth\":0,\"ticks\":\"\"}}}],\"scatterpolargl\":[{\"type\":\"scatterpolargl\",\"marker\":{\"colorbar\":{\"outlinewidth\":0,\"ticks\":\"\"}}}],\"bar\":[{\"error_x\":{\"color\":\"#2a3f5f\"},\"error_y\":{\"color\":\"#2a3f5f\"},\"marker\":{\"line\":{\"color\":\"#E5ECF6\",\"width\":0.5},\"pattern\":{\"fillmode\":\"overlay\",\"size\":10,\"solidity\":0.2}},\"type\":\"bar\"}],\"scattergeo\":[{\"type\":\"scattergeo\",\"marker\":{\"colorbar\":{\"outlinewidth\":0,\"ticks\":\"\"}}}],\"scatterpolar\":[{\"type\":\"scatterpolar\",\"marker\":{\"colorbar\":{\"outlinewidth\":0,\"ticks\":\"\"}}}],\"histogram\":[{\"marker\":{\"pattern\":{\"fillmode\":\"overlay\",\"size\":10,\"solidity\":0.2}},\"type\":\"histogram\"}],\"scattergl\":[{\"type\":\"scattergl\",\"marker\":{\"colorbar\":{\"outlinewidth\":0,\"ticks\":\"\"}}}],\"scatter3d\":[{\"type\":\"scatter3d\",\"line\":{\"colorbar\":{\"outlinewidth\":0,\"ticks\":\"\"}},\"marker\":{\"colorbar\":{\"outlinewidth\":0,\"ticks\":\"\"}}}],\"scattermapbox\":[{\"type\":\"scattermapbox\",\"marker\":{\"colorbar\":{\"outlinewidth\":0,\"ticks\":\"\"}}}],\"scatterternary\":[{\"type\":\"scatterternary\",\"marker\":{\"colorbar\":{\"outlinewidth\":0,\"ticks\":\"\"}}}],\"scattercarpet\":[{\"type\":\"scattercarpet\",\"marker\":{\"colorbar\":{\"outlinewidth\":0,\"ticks\":\"\"}}}],\"carpet\":[{\"aaxis\":{\"endlinecolor\":\"#2a3f5f\",\"gridcolor\":\"white\",\"linecolor\":\"white\",\"minorgridcolor\":\"white\",\"startlinecolor\":\"#2a3f5f\"},\"baxis\":{\"endlinecolor\":\"#2a3f5f\",\"gridcolor\":\"white\",\"linecolor\":\"white\",\"minorgridcolor\":\"white\",\"startlinecolor\":\"#2a3f5f\"},\"type\":\"carpet\"}],\"table\":[{\"cells\":{\"fill\":{\"color\":\"#EBF0F8\"},\"line\":{\"color\":\"white\"}},\"header\":{\"fill\":{\"color\":\"#C8D4E3\"},\"line\":{\"color\":\"white\"}},\"type\":\"table\"}],\"barpolar\":[{\"marker\":{\"line\":{\"color\":\"#E5ECF6\",\"width\":0.5},\"pattern\":{\"fillmode\":\"overlay\",\"size\":10,\"solidity\":0.2}},\"type\":\"barpolar\"}],\"pie\":[{\"automargin\":true,\"type\":\"pie\"}]},\"layout\":{\"autotypenumbers\":\"strict\",\"colorway\":[\"#636efa\",\"#EF553B\",\"#00cc96\",\"#ab63fa\",\"#FFA15A\",\"#19d3f3\",\"#FF6692\",\"#B6E880\",\"#FF97FF\",\"#FECB52\"],\"font\":{\"color\":\"#2a3f5f\"},\"hovermode\":\"closest\",\"hoverlabel\":{\"align\":\"left\"},\"paper_bgcolor\":\"white\",\"plot_bgcolor\":\"#E5ECF6\",\"polar\":{\"bgcolor\":\"#E5ECF6\",\"angularaxis\":{\"gridcolor\":\"white\",\"linecolor\":\"white\",\"ticks\":\"\"},\"radialaxis\":{\"gridcolor\":\"white\",\"linecolor\":\"white\",\"ticks\":\"\"}},\"ternary\":{\"bgcolor\":\"#E5ECF6\",\"aaxis\":{\"gridcolor\":\"white\",\"linecolor\":\"white\",\"ticks\":\"\"},\"baxis\":{\"gridcolor\":\"white\",\"linecolor\":\"white\",\"ticks\":\"\"},\"caxis\":{\"gridcolor\":\"white\",\"linecolor\":\"white\",\"ticks\":\"\"}},\"coloraxis\":{\"colorbar\":{\"outlinewidth\":0,\"ticks\":\"\"}},\"colorscale\":{\"sequential\":[[0.0,\"#0d0887\"],[0.1111111111111111,\"#46039f\"],[0.2222222222222222,\"#7201a8\"],[0.3333333333333333,\"#9c179e\"],[0.4444444444444444,\"#bd3786\"],[0.5555555555555556,\"#d8576b\"],[0.6666666666666666,\"#ed7953\"],[0.7777777777777778,\"#fb9f3a\"],[0.8888888888888888,\"#fdca26\"],[1.0,\"#f0f921\"]],\"sequentialminus\":[[0.0,\"#0d0887\"],[0.1111111111111111,\"#46039f\"],[0.2222222222222222,\"#7201a8\"],[0.3333333333333333,\"#9c179e\"],[0.4444444444444444,\"#bd3786\"],[0.5555555555555556,\"#d8576b\"],[0.6666666666666666,\"#ed7953\"],[0.7777777777777778,\"#fb9f3a\"],[0.8888888888888888,\"#fdca26\"],[1.0,\"#f0f921\"]],\"diverging\":[[0,\"#8e0152\"],[0.1,\"#c51b7d\"],[0.2,\"#de77ae\"],[0.3,\"#f1b6da\"],[0.4,\"#fde0ef\"],[0.5,\"#f7f7f7\"],[0.6,\"#e6f5d0\"],[0.7,\"#b8e186\"],[0.8,\"#7fbc41\"],[0.9,\"#4d9221\"],[1,\"#276419\"]]},\"xaxis\":{\"gridcolor\":\"white\",\"linecolor\":\"white\",\"ticks\":\"\",\"title\":{\"standoff\":15},\"zerolinecolor\":\"white\",\"automargin\":true,\"zerolinewidth\":2},\"yaxis\":{\"gridcolor\":\"white\",\"linecolor\":\"white\",\"ticks\":\"\",\"title\":{\"standoff\":15},\"zerolinecolor\":\"white\",\"automargin\":true,\"zerolinewidth\":2},\"scene\":{\"xaxis\":{\"backgroundcolor\":\"#E5ECF6\",\"gridcolor\":\"white\",\"linecolor\":\"white\",\"showbackground\":true,\"ticks\":\"\",\"zerolinecolor\":\"white\",\"gridwidth\":2},\"yaxis\":{\"backgroundcolor\":\"#E5ECF6\",\"gridcolor\":\"white\",\"linecolor\":\"white\",\"showbackground\":true,\"ticks\":\"\",\"zerolinecolor\":\"white\",\"gridwidth\":2},\"zaxis\":{\"backgroundcolor\":\"#E5ECF6\",\"gridcolor\":\"white\",\"linecolor\":\"white\",\"showbackground\":true,\"ticks\":\"\",\"zerolinecolor\":\"white\",\"gridwidth\":2}},\"shapedefaults\":{\"line\":{\"color\":\"#2a3f5f\"}},\"annotationdefaults\":{\"arrowcolor\":\"#2a3f5f\",\"arrowhead\":0,\"arrowwidth\":1},\"geo\":{\"bgcolor\":\"white\",\"landcolor\":\"#E5ECF6\",\"subunitcolor\":\"white\",\"showland\":true,\"showlakes\":true,\"lakecolor\":\"white\"},\"title\":{\"x\":0.05},\"mapbox\":{\"style\":\"light\"}}},\"title\":{\"text\":\"Universities in the States\"},\"geo\":{\"scope\":\"usa\"}},                        {\"responsive\": true}                    ).then(function(){\n",
              "                            \n",
              "var gd = document.getElementById('26896c12-527c-47e0-979d-165e8e71393a');\n",
              "var x = new MutationObserver(function (mutations, observer) {{\n",
              "        var display = window.getComputedStyle(gd).display;\n",
              "        if (!display || display === 'none') {{\n",
              "            console.log([gd, 'removed!']);\n",
              "            Plotly.purge(gd);\n",
              "            observer.disconnect();\n",
              "        }}\n",
              "}});\n",
              "\n",
              "// Listen for the removal of the full notebook cells\n",
              "var notebookContainer = gd.closest('#notebook-container');\n",
              "if (notebookContainer) {{\n",
              "    x.observe(notebookContainer, {childList: true});\n",
              "}}\n",
              "\n",
              "// Listen for the clearing of the current output cell\n",
              "var outputEl = gd.closest('.output');\n",
              "if (outputEl) {{\n",
              "    x.observe(outputEl, {childList: true});\n",
              "}}\n",
              "\n",
              "                        })                };                            </script>        </div>\n",
              "</body>\n",
              "</html>"
            ]
          },
          "metadata": {}
        }
      ]
    },
    {
      "cell_type": "markdown",
      "source": [
        "6. Számoljuk ki, hány egyetem van városonként, majd összesítve államonként. Ehhez az `egyetemek.txt` fájlban miután megkapunk egy várost, az utána következő kerek zárójelek között megszámoljuk, hány vesszővel elválasztott karakterlánc található. \n",
        "Pl. a következő sorban:\t`Claremont (Claremont McKenna College, Pomona College, Harvey Mudd College, Scripps College, Pitzer College, Keck Graduate Institute, Claremont Graduate University)[5]` -> 6 vessző van a kerek zárójelek között, tehát 7 egyetem van a városban.    \n",
        "Melyik államban és melyik városban van a legtöbb egyetem?"
      ],
      "metadata": {
        "id": "pKZXgALRqard"
      }
    },
    {
      "cell_type": "code",
      "source": [
        "df['Num Universities'] = df['University'].str.count(',') + 1\n",
        "print(df)"
      ],
      "metadata": {
        "colab": {
          "base_uri": "https://localhost:8080/"
        },
        "id": "YacY51Ml6r8Q",
        "outputId": "5a0fd61f-005a-405b-cb72-7b4b5f60e3d7"
      },
      "execution_count": 87,
      "outputs": [
        {
          "output_type": "stream",
          "name": "stdout",
          "text": [
            "                                University       Location      State  \\\n",
            "0                        Auburn University         Auburn    Alabama   \n",
            "1              University of North Alabama       Florence    Alabama   \n",
            "2            Jacksonville State University   Jacksonville    Alabama   \n",
            "3               University of West Alabama     Livingston    Alabama   \n",
            "4                 University of Montevallo     Montevallo    Alabama   \n",
            "..                                     ...            ...        ...   \n",
            "511    University of Wisconsin–River Falls    River Falls  Wisconsin   \n",
            "512  University of Wisconsin–Stevens Point  Stevens Point  Wisconsin   \n",
            "513                     Carroll University       Waukesha  Wisconsin   \n",
            "514     University of Wisconsin–Whitewater     Whitewater  Wisconsin   \n",
            "515                  University of Wyoming        Laramie    Wyoming   \n",
            "\n",
            "    State Abbreviation  Population  Territory  Universities per Area  \\\n",
            "0                   AL   4903185.0    52420.0               0.000153   \n",
            "1                   AL   4903185.0    52420.0               0.000153   \n",
            "2                   AL   4903185.0    52420.0               0.000153   \n",
            "3                   AL   4903185.0    52420.0               0.000153   \n",
            "4                   AL   4903185.0    52420.0               0.000153   \n",
            "..                 ...         ...        ...                    ...   \n",
            "511                 WI   5822434.0    65496.0               0.000198   \n",
            "512                 WI   5822434.0    65496.0               0.000198   \n",
            "513                 WI   5822434.0    65496.0               0.000198   \n",
            "514                 WI   5822434.0    65496.0               0.000198   \n",
            "515                 WY    578759.0    97813.0               0.000010   \n",
            "\n",
            "     Universities per State  Universities per Person  Num Universities  \n",
            "0                         8                 0.000002                 1  \n",
            "1                         8                 0.000002                 1  \n",
            "2                         8                 0.000002                 1  \n",
            "3                         8                 0.000002                 1  \n",
            "4                         8                 0.000002                 1  \n",
            "..                      ...                      ...               ...  \n",
            "511                      13                 0.000002                 1  \n",
            "512                      13                 0.000002                 1  \n",
            "513                      13                 0.000002                 1  \n",
            "514                      13                 0.000002                 1  \n",
            "515                       1                 0.000002                 1  \n",
            "\n",
            "[516 rows x 10 columns]\n"
          ]
        }
      ]
    },
    {
      "cell_type": "code",
      "source": [
        "multiple_univ_rows = df[df['Num Universities'] > 1]\n",
        "print(multiple_univ_rows)\n",
        "#print(multiple_univ_rows.loc[487])"
      ],
      "metadata": {
        "id": "5tULBhUJqnzt",
        "colab": {
          "base_uri": "https://localhost:8080/"
        },
        "outputId": "03b4629c-c072-4f5e-817e-90569962c076"
      },
      "execution_count": 95,
      "outputs": [
        {
          "output_type": "stream",
          "name": "stdout",
          "text": [
            "                                            University     Location  \\\n",
            "6    University of Alabama, Stillman College, Shelt...   Tuscaloosa   \n",
            "12   Henderson State University, Ouachita Baptist U...  Arkadelphia   \n",
            "13   Central Baptist College, Hendrix College, Univ...       Conway   \n",
            "22                  University of California, Berkeley     Berkeley   \n",
            "23                  California State University, Chico        Chico   \n",
            "..                                                 ...          ...   \n",
            "482  Washington and Lee University, Virginia Milita...    Lexington   \n",
            "483  Lynchburg College, Randolph College, Liberty U...    Lynchburg   \n",
            "487  Averett University, DeVry University, Troy Uni...   Chesapeake   \n",
            "505  University of Wisconsin–La Crosse, Western Tec...    La Crosse   \n",
            "508  Marquette University, University of Wisconsin–...    Milwaukee   \n",
            "\n",
            "          State State Abbreviation  Population  Territory  \\\n",
            "6       Alabama                 AL   4903185.0    52420.0   \n",
            "12     Arkansas                 AR   3017804.0    53179.0   \n",
            "13     Arkansas                 AR   3017804.0    53179.0   \n",
            "22   California                 CA  39538223.0   163696.0   \n",
            "23   California                 CA  39538223.0   163696.0   \n",
            "..          ...                ...         ...        ...   \n",
            "482    Virginia                 VA   8535519.0    42775.0   \n",
            "483    Virginia                 VA   8535519.0    42775.0   \n",
            "487    Virginia                 VA   8535519.0    42775.0   \n",
            "505   Wisconsin                 WI   5822434.0    65496.0   \n",
            "508   Wisconsin                 WI   5822434.0    65496.0   \n",
            "\n",
            "     Universities per Area  Universities per State  Universities per Person  \\\n",
            "6                 0.000153                       8             1.631593e-06   \n",
            "12                0.000150                       8             2.650934e-06   \n",
            "13                0.000150                       8             2.650934e-06   \n",
            "22                0.000159                      26             6.575915e-07   \n",
            "23                0.000159                      26             6.575915e-07   \n",
            "..                     ...                     ...                      ...   \n",
            "482               0.000281                      12             1.405890e-06   \n",
            "483               0.000281                      12             1.405890e-06   \n",
            "487               0.000281                      12             1.405890e-06   \n",
            "505               0.000198                      13             2.232743e-06   \n",
            "508               0.000198                      13             2.232743e-06   \n",
            "\n",
            "     Num Universities  \n",
            "6                   3  \n",
            "12                  2  \n",
            "13                  3  \n",
            "22                  2  \n",
            "23                  2  \n",
            "..                ...  \n",
            "482                 2  \n",
            "483                 4  \n",
            "487                 8  \n",
            "505                 3  \n",
            "508                 2  \n",
            "\n",
            "[104 rows x 10 columns]\n",
            "University                 Averett University, DeVry University, Troy Uni...\n",
            "Location                                                          Chesapeake\n",
            "State                                                               Virginia\n",
            "State Abbreviation                                                        VA\n",
            "Population                                                         8535519.0\n",
            "Territory                                                            42775.0\n",
            "Universities per Area                                               0.000281\n",
            "Universities per State                                                    12\n",
            "Universities per Person                                             0.000001\n",
            "Num Universities                                                           8\n",
            "Name: 487, dtype: object\n"
          ]
        }
      ]
    }
  ]
}