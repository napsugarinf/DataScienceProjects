{
  "nbformat": 4,
  "nbformat_minor": 0,
  "metadata": {
    "hide_input": false,
    "kernelspec": {
      "display_name": "Python 3",
      "language": "python",
      "name": "python3"
    },
    "language_info": {
      "codemirror_mode": {
        "name": "ipython",
        "version": 3
      },
      "file_extension": ".py",
      "mimetype": "text/x-python",
      "name": "python",
      "nbconvert_exporter": "python",
      "pygments_lexer": "ipython3",
      "version": "3.7.1"
    },
    "colab": {
      "provenance": [],
      "include_colab_link": true
    }
  },
  "cells": [
    {
      "cell_type": "markdown",
      "metadata": {
        "id": "view-in-github",
        "colab_type": "text"
      },
      "source": [
        "<a href=\"https://colab.research.google.com/github/IK2023-info/ik2023-lab01-napsugarinf/blob/main/IK_lab01.ipynb\" target=\"_parent\"><img src=\"https://colab.research.google.com/assets/colab-badge.svg\" alt=\"Open In Colab\"/></a>"
      ]
    },
    {
      "cell_type": "markdown",
      "metadata": {
        "id": "BrjbAqF7dFwX"
      },
      "source": [
        "# Feladatok\n",
        "\n",
        "\n",
        "\n",
        "----\n"
      ]
    },
    {
      "cell_type": "markdown",
      "metadata": {
        "id": "4u3wvRgsdFwa"
      },
      "source": [
        "## 1. Feladat\n",
        "#### Listák - I.\n",
        "\n",
        "Galileo Galilei egyik gondolatát küdték el nekünk SMS-ben, de sajnos hálózati hiba miatt nem sorrendben érkeztek meg a szavak. A következőt olvastuk a telefonunkban:"
      ]
    },
    {
      "cell_type": "code",
      "metadata": {
        "id": "KiIy4GbidFwb"
      },
      "source": [
        "sms=['Szentírás ', 'bölcs ', 'a ', 'már ', 'szükséges ', 'mondhat ', 'biztosak ', 'a ',\n",
        "     'feladata, ', 'Mivel ', 'ellent ', 'a ', 'érzéki ', 'azokkal ', 'következtetésekkel, ',\n",
        "     'a ', 'vagyunk ', 'a ', 'tapasztalataink ', 'szöveg ', 'azon ', 'igazság ', 'sose ',\n",
        "     'ami ', 'hogy ', 'melyekben ', 'kísérletek ', 'megtalálják ', 'által.', 'két ', 'fizikai ',\n",
        "     'egymásnak, ', 'egyezik ', 'és ', 'értelmezőinek ', 'értelmezését, ']"
      ],
      "execution_count": null,
      "outputs": []
    },
    {
      "cell_type": "markdown",
      "metadata": {
        "id": "kRAM2StCdFwf"
      },
      "source": [
        "Később a telefonszolgáltató megtalálta a hiba okát, és elküldte, hogy milyen sorrendben kaptuk meg az eredeti szöveg szavait:"
      ]
    },
    {
      "cell_type": "code",
      "metadata": {
        "id": "YfEx-oA7dFwg"
      },
      "source": [
        "sorrend=[8,9,15,26,33,4,27,11,12,0,5,32,29,21,24,22,28,7,30,16,17,2,3,19,13,25,34,14,35,1,23,6,20,31,10,18]"
      ],
      "execution_count": null,
      "outputs": []
    },
    {
      "cell_type": "code",
      "source": [
        "ujSzovegLista = []\n",
        "for i in range(0,len(sms)):\n",
        "  ujSzovegLista.append('')\n",
        "for i in range (0,len(sorrend)):\n",
        "  ujSzovegLista[sorrend[i]] = sms[i]\n",
        "#print(ujSzovegLista)\n",
        "ujSms = ''\n",
        "for i in range(len(ujSzovegLista)):\n",
        "  ujSms = ujSms+ ujSzovegLista[i]\n",
        "print(ujSms)\n"
      ],
      "metadata": {
        "colab": {
          "base_uri": "https://localhost:8080/"
        },
        "id": "En3ABFYQj6mo",
        "outputId": "614237fd-4851-45de-8a1e-9b9a9699b1ef"
      },
      "execution_count": null,
      "outputs": [
        {
          "output_type": "stream",
          "name": "stdout",
          "text": [
            "Mivel két igazság sose mondhat ellent egymásnak, a Szentírás bölcs értelmezőinek a feladata, hogy megtalálják a szöveg azon értelmezését, ami egyezik azokkal a fizikai következtetésekkel, melyekben már biztosak vagyunk érzéki tapasztalataink és a szükséges kísérletek által.\n"
          ]
        }
      ]
    },
    {
      "cell_type": "markdown",
      "metadata": {
        "id": "sA6gpmXJdFwj"
      },
      "source": [
        "Azaz az általunk megkapott első szó az eredeti szövegben a 8-as indexet viselte, azaz a 9. volt.\n",
        "\n",
        "Írj egy olyan programot, ami helyreállítja az idézetet, valamint össze is fűzi a lista elemeit egy mondattá."
      ]
    },
    {
      "cell_type": "markdown",
      "metadata": {
        "id": "trwhokPldFwk"
      },
      "source": [
        "## 2. Feladat\n",
        "\n",
        "#### Dictionary - I.\n",
        "\n",
        "Írjatok egy függvényt, ami a megadott szótár segítségével tetszőleges magyar szöveget angolra fordít!\n",
        "\n",
        "- A fordítás történjen szóról szóra.\n",
        "- Ha ismeretlen szóval találkoztok, akkor csináljátok azt, amit a Google Translator: csak írjátok ki az eredeti szót fordítás nélkül. ( A szöveg többi részét természetesen le kell fordítani.)\n",
        "- Nem baj, ha nyelvtanilag nem helyes vagy értelmetlen a fordítás."
      ]
    },
    {
      "cell_type": "code",
      "metadata": {
        "id": "9tGUdBQndFwl"
      },
      "source": [
        "szotar={'a':'the',\n",
        "        'majom': 'monkey',\n",
        "        'kutya':'dog',\n",
        "        'szereti':'likes',\n",
        "        'banánt':'banana',\n",
        "        'kolbászt':'sausage'}\n",
        "\n",
        "pelda_szoveg='a majom szereti a banánt minden kutya szereti a kolbászt'"
      ],
      "execution_count": null,
      "outputs": []
    },
    {
      "cell_type": "code",
      "source": [
        "def translate(szoveg, szotar):\n",
        "    szavak = szoveg.split()\n",
        "    forditas = ''\n",
        "    for i, szo in enumerate(szavak):\n",
        "        if szo in szotar:\n",
        "            szavak[i] = szotar[szo]\n",
        "    forditas= ' '.join(szavak)\n",
        "    return forditas\n",
        "translate(pelda_szoveg, szotar)"
      ],
      "metadata": {
        "colab": {
          "base_uri": "https://localhost:8080/",
          "height": 36
        },
        "id": "zgfEpAXGYqg-",
        "outputId": "34f4bc58-bfc9-45f9-a86e-d183a2486e14"
      },
      "execution_count": null,
      "outputs": [
        {
          "output_type": "execute_result",
          "data": {
            "text/plain": [
              "'the monkey likes the banana minden dog likes the sausage'"
            ],
            "application/vnd.google.colaboratory.intrinsic+json": {
              "type": "string"
            }
          },
          "metadata": {},
          "execution_count": 41
        }
      ]
    },
    {
      "cell_type": "markdown",
      "metadata": {
        "id": "dK---IxJdFwo"
      },
      "source": [
        "## 3. feladat\n",
        "\n",
        "#### Függvények - II.\n",
        "\n",
        "Írj egy függvényt, ami a $$ ax^2+bx+c=0 $$ másodfokú egyenlet (valós és komplex) gyökeit határozza meg. Csak akkor kapjunk eredményként komplex számot, ha a diszkrimináns negatív!\n",
        "\n",
        "Példaként add meg a következő négy egyenlet megoldását:\n",
        "1. $x^2=100$\n",
        "2. $3x^2-25x=10$\n",
        "3. $-4x^2+4x=1$\n",
        "4. $25x^2+16x=-100$"
      ]
    },
    {
      "cell_type": "code",
      "metadata": {
        "id": "iHHzPu_jdFwp"
      },
      "source": [
        "import math\n",
        "\n",
        "def masodfoku(a,b,c):\n",
        "    delta =b * b - 4 * a * c\n",
        "    sqrtDelta = math.sqrt(abs(delta))\n",
        "    if delta > 0:\n",
        "       x1 = (-b + sqrtDelta)/(2 * a)\n",
        "       x2 = (-b - sqrtDelta)/(2 * a)\n",
        "    elif delta == 0:\n",
        "       x1 = -b / (2 * a)\n",
        "       x2 = -b / (2 * a)\n",
        "    else:\n",
        "       x1Real = - b / (2 * a)\n",
        "       x1Imag = round(sqrtDelta,2)\n",
        "       x2Real = - b / (2 * a)\n",
        "       x2Imag = round(sqrtDelta,2)\n",
        "       x1 = str(x1Real) + \" + i*\" + str(x1Imag)\n",
        "       x2 = str(x2Real) + \" - i*\" + str(x2Imag)\n",
        "    return x1,x2"
      ],
      "execution_count": null,
      "outputs": []
    },
    {
      "cell_type": "code",
      "source": [
        "print(\"1. feladat megoldasai: \", masodfoku(1,0,-100))\n",
        "print(\"2. feladat megoldasai: \", masodfoku(3,-25,-10))\n",
        "print(\"3. feladat megoldasai: \", masodfoku(-4,4,-1))\n",
        "print(\"4. feladat megoldasai: \", masodfoku(25,16,100) )"
      ],
      "metadata": {
        "colab": {
          "base_uri": "https://localhost:8080/"
        },
        "id": "X5KhQ2vWT9O4",
        "outputId": "4aa35b50-5276-4eea-9514-01c0f3ae6277"
      },
      "execution_count": null,
      "outputs": [
        {
          "output_type": "stream",
          "name": "stdout",
          "text": [
            "1. feladat megoldasai:  (10.0, -10.0)\n",
            "2. feladat megoldasai:  (8.71578135465206, -0.38244802131872707)\n",
            "3. feladat megoldasai:  (0.5, 0.5)\n",
            "4. feladat megoldasai:  ('-0.32 + i*98.71', '-0.32 - i*98.71')\n"
          ]
        }
      ]
    },
    {
      "cell_type": "markdown",
      "metadata": {
        "id": "PxmZy_IRdFws"
      },
      "source": [
        "## 4. Feladat\n",
        "\n",
        "#### Docstring és változó számú argumentumok - I.\n",
        "\n",
        "Írjunk egy függvényt, amely egy kezdőértékből, egy kvóciensből és egy N egész számból legyárt egy N hosszú mértani sorozatot.\n",
        "\n",
        "Az általunk megírt függvény teljesítse a következő feltételeket:\n",
        "- írjunk **docstringet**,\n",
        "- a függvény egy listával **térjen vissza**\n",
        "- ha egy bemeneti értéke van, akkor azt tekintse kezdőértéknek, a kvóciens legyen 0.5, N pedig 10\n",
        "- ha két bemeneti érték van, akkor az első legyen a kezdőérték, a második a kvóciens, N pedig 10\n",
        "- ha megvan mind a három paraméter, akkor ugyanúgy viselkedjen, mint ahogy azt az előző feladatban tette"
      ]
    },
    {
      "cell_type": "code",
      "metadata": {
        "id": "gemtKC0SdFws"
      },
      "source": [
        "def mertani(x0,q = 0.5,N = 10):\n",
        "    \"\"\"a fuggveny egy kezdőértékből - x0, egy kvóciensből - q és egy N egész számból legyárt egy N hosszú mértani sorozatot\n",
        "    ha harom parametert adunk meg, akkor azzal a harommal dolgozik,\n",
        "    ha kettot, akkor kettovel,\n",
        "    ha egyet, akkor az alapertermezett q es N a fuggvenydeklaracioban talalhato\n",
        "\n",
        "    \"\"\" # ide jön a docstring\n",
        "    list = [x0]\n",
        "    for i in range(1, N):\n",
        "        term = list[i-1] * q\n",
        "        list.append(term)\n",
        "    return list\n"
      ],
      "execution_count": null,
      "outputs": []
    },
    {
      "cell_type": "code",
      "source": [
        "mertani(1)"
      ],
      "metadata": {
        "colab": {
          "base_uri": "https://localhost:8080/"
        },
        "id": "0GOJsNL5XJeE",
        "outputId": "6763796b-9ae7-4cb1-fdca-bb211d94c362"
      },
      "execution_count": null,
      "outputs": [
        {
          "output_type": "execute_result",
          "data": {
            "text/plain": [
              "[1,\n",
              " 0.5,\n",
              " 0.25,\n",
              " 0.125,\n",
              " 0.0625,\n",
              " 0.03125,\n",
              " 0.015625,\n",
              " 0.0078125,\n",
              " 0.00390625,\n",
              " 0.001953125]"
            ]
          },
          "metadata": {},
          "execution_count": 27
        }
      ]
    },
    {
      "cell_type": "markdown",
      "metadata": {
        "id": "76srIpUudFwv"
      },
      "source": [
        "##  5. feladat\n",
        "\n",
        "#### Dictionary - II.\n",
        "\n",
        "A harmadik feladat magyar-angol szótárának megfordításával készítsétek el az angol-magyar szótárt, majd ennek segítségével a függvényt, ami tetszőleges angol szöveget magyarra fordít!\n",
        "\n",
        "- A kézzel bevitt szótár nem jó megoldás! (használjátok a `dict` típus `items()` tagfüggvényét!)\n",
        "\n",
        "- Ha ismeretlen szóval találkoztok, akkor csináljátok azt, amit a Google Translator: csak írjátok ki az eredeti szót fordítás nélkül. ( A szöveg többi részét természetesen le kell fordítani.)\n",
        "\n",
        "- Nem baj, ha nyelvtanilag nem helyes, vagy értelmetlen a fordítás.\n",
        "\n",
        "----"
      ]
    },
    {
      "cell_type": "code",
      "metadata": {
        "id": "yM95f8I0dFwv"
      },
      "source": [
        "szotar={'a':'the',\n",
        "        'majom': 'monkey',\n",
        "        'kutya':'dog',\n",
        "        'szereti':'likes',\n",
        "        'banánt':'banana',\n",
        "        'kolbászt':'sausage'}\n",
        "\n",
        "angol_mondat='the monkey likes banana every dog likes sausage'"
      ],
      "execution_count": null,
      "outputs": []
    },
    {
      "cell_type": "code",
      "source": [
        "inverz_szotar = {value: key for key, value in szotar.items()}\n",
        "print(inverz_szotar)\n",
        "translate(angol_mondat, inverz_szotar)"
      ],
      "metadata": {
        "colab": {
          "base_uri": "https://localhost:8080/",
          "height": 54
        },
        "id": "WtKKh_XMa4Rt",
        "outputId": "3a2b0304-bb7c-406e-d159-dffaf5a7701c"
      },
      "execution_count": null,
      "outputs": [
        {
          "output_type": "stream",
          "name": "stdout",
          "text": [
            "{'the': 'a', 'monkey': 'majom', 'dog': 'kutya', 'likes': 'szereti', 'banana': 'banánt', 'sausage': 'kolbászt'}\n"
          ]
        },
        {
          "output_type": "execute_result",
          "data": {
            "text/plain": [
              "'a majom szereti banánt every kutya szereti kolbászt'"
            ],
            "application/vnd.google.colaboratory.intrinsic+json": {
              "type": "string"
            }
          },
          "metadata": {},
          "execution_count": 49
        }
      ]
    },
    {
      "cell_type": "markdown",
      "metadata": {
        "id": "-qRGQ5HIdFwy"
      },
      "source": [
        "##  6. feladat\n",
        "\n",
        "#### Kulcsszavas függvény változó számú argumentummal\n",
        "\n",
        "Írjunk egy függvényt, amely egy adott **x** array-ben tárolt valós értékekre kiértékel egy tetszőleges polinomfüggvényt, vagy ábrázolja azt!\n",
        "- A polinom-együtthatókat egy tetszőleges hosszúságú **args** nevű váltózóban kapjuk.\n",
        "- Ha a **kwargs** kulcsszavas argumentumban a `csinal_kepet` kulcsszo `True` akkor ábrázoljuk a polinomot és ne térjünk vissza semmilyen értékkel, ellenkező esetben a függvény térjen vissza egy array változóval amely polinom értékeit tartalmazza az **x** változóban tárolt helyeken.\n",
        "- Az ábrázolás stilisztikai paramétereit a függvénynek adott egyéb kulcsszavas argumentumok segítségével állítsuk be!"
      ]
    },
    {
      "cell_type": "code",
      "metadata": {
        "id": "sJiHJMyLdFwy"
      },
      "source": [
        "import numpy as np\n",
        "import matplotlib.pyplot as plt\n",
        "\n",
        "\n",
        "def fuggveny(x,*args,**kwargs):\n",
        "    \"Kiértékelek vagy ábrázolok egy polinom-ot\"\n",
        "    csinal_kepet = kwargs.get(\"csinal_kepet\", False)\n",
        "    xmin = kwargs.get(\"xmin\", min(x))\n",
        "    xmax = kwargs.get(\"xmax\", max(x))\n",
        "    ymin = kwargs.get(\"ymin\", None)\n",
        "    ymax = kwargs.get(\"ymax\", None)\n",
        "    xlabel = kwargs.get(\"xlabel\", \"X\")\n",
        "    ylabel = kwargs.get(\"ylabel\", \"Y\")\n",
        "    title = kwargs.get(\"title\", \"Polynomial Evaluation\")\n",
        "\n",
        "    y = np.zeros_like(x)\n",
        "    for i, a in enumerate(args):\n",
        "        y += a * np.power(x, i)\n",
        "\n",
        "    if csinal_kepet:\n",
        "        fig, ax = plt.subplots()\n",
        "        ax.plot(x, y)\n",
        "        ax.set_xlim(xmin, xmax)\n",
        "        if ymin is not None and ymax is not None:\n",
        "            ax.set_ylim(ymin, ymax)\n",
        "        ax.set_xlabel(xlabel)\n",
        "        ax.set_ylabel(ylabel)\n",
        "        ax.set_title(title)\n",
        "        plt.show()\n",
        "    else:\n",
        "        return y"
      ],
      "execution_count": null,
      "outputs": []
    },
    {
      "cell_type": "code",
      "source": [
        "# Példa értékek\n",
        "a0, a1, a2 = 2.0, 0.5, -1.0\n",
        "args = (a0, a1, a2)\n",
        "\n",
        "# Kiértékeljük a polinomot az x értékekre\n",
        "x = np.linspace(-5.0, 5.0, num=100)\n",
        "y = fuggveny(x, *args)\n",
        "\n",
        "# Kirajzoljuk a függvényt\n",
        "kwargs = {\"csinal_kepet\": True, \"xlabel\": \"X\", \"ylabel\": \"Y\", \"title\": \"Példa függvény\"}\n",
        "fuggveny(x, *args, **kwargs)"
      ],
      "metadata": {
        "colab": {
          "base_uri": "https://localhost:8080/",
          "height": 295
        },
        "id": "fxR-T0Gqep_v",
        "outputId": "ea070dc8-ad22-437d-a96c-1affd7374a11"
      },
      "execution_count": null,
      "outputs": [
        {
          "output_type": "display_data",
          "data": {
            "text/plain": [
              "<Figure size 432x288 with 1 Axes>"
            ],
            "image/png": "[encoded data removed]"
          },
          "metadata": {
            "needs_background": "light"
          }
        }
      ]
    },
    {
      "cell_type": "markdown",
      "metadata": {
        "id": "PuID9ktLdFw1"
      },
      "source": [
        "## 7. feladat\n",
        "\n",
        "#### Listák - II.\n",
        "\n",
        "Ábrázold hisztogramon az [Anyám tyúkja](http://magyar-irodalom.elte.hu/sulinet/igyjo/setup/portrek/petofi/anyamtyu.htm) versben a szavak hosszának eloszlását."
      ]
    },
    {
      "cell_type": "code",
      "source": [
        "import matplotlib.pyplot as plt\n",
        "import numpy as np\n",
        "\n",
        "szoveg = 'ANYÁM TYÚKJA \\n\\nEj mi a kő! tyúkanyó, kend \\nA szobában lakik itt bent? \\nLám, csak jó az isten, jót ád, \\nHogy fölvitte a kend dolgát! \\n\\nItt szaladgál föl és alá, \\nMég a ládára is fölszáll \\nEszébe jut, kotkodákol,\\nS nem verik ki a szobábol.\\n \\nDehogy verik, dehogy verik! \\nMint a galambot etetik, \\nVálogat a kendermagban, \\nA kiskirály sem él jobban. \\n\\n Ezért aztán, tyúkanyó, hát \\nJól megbecsűlje kend magát, \\nIparkodjék, ne legyen ám \\nTojás szűkében az anyám. – \\n \\nMorzsa kutyánk, hegyezd füled, \\nHadd beszélek mostan veled, \\nRégi cseléd vagy a háznál, \\nMindig emberűl szolgáltál, \\n \\nEzután is jó légy, Morzsa, \\nKedvet ne kapj a tyúkhusra, \\nÉlj a tyúkkal barátságba’... \\nAnyám egyetlen jószága.'\n",
        "#print(szoveg)\n",
        "szavak_hossza = [len(sz) for sz in szoveg.split()]\n",
        "\n",
        "tarolo = np.arange(0, max(szavak_hossza) + 2) - 0.5\n",
        "plt.hist(szavak_hossza, bins=tarolo, color = 'yellow', edgecolor='green')\n",
        "\n",
        "plt.xticks(np.arange(0, max(szavak_hossza) + 1))\n",
        "plt.xlabel('Szavak hossza')\n",
        "plt.ylabel('Gyakoriság')\n",
        "plt.show()"
      ],
      "metadata": {
        "colab": {
          "base_uri": "https://localhost:8080/",
          "height": 279
        },
        "id": "T-X-WBFTcdmf",
        "outputId": "8776b25a-ecef-4f52-8423-8d1c5f897a98"
      },
      "execution_count": null,
      "outputs": [
        {
          "output_type": "display_data",
          "data": {
            "text/plain": [
              "<Figure size 432x288 with 1 Axes>"
            ],
            "image/png": "[encoded data removed]"
          },
          "metadata": {
            "needs_background": "light"
          }
        }
      ]
    },
    {
      "cell_type": "markdown",
      "metadata": {
        "id": "CAAfXZzzdFw2"
      },
      "source": [
        "##  8. Péksütemény\n",
        "\n",
        "#### Véletlen számok-II\n",
        "\n",
        "Írj egy olyan függvényt, melynek bemeneti értéke a $p$ valószínűség (mely egy 0 és 1 közötti szám), kimeneti értéke pedig $p$ valószínűséggel a \"kakaós csiga\" string, 1-$p$ valószínűséggel pedig a \"túrós táska\" string. Demonstráld hisztogram segítségével, hogy a függvényed helyes eloszlással generálja a kívánt péksüteményeket!"
      ]
    },
    {
      "cell_type": "code",
      "metadata": {
        "id": "YiU_180sdFw2",
        "colab": {
          "base_uri": "https://localhost:8080/",
          "height": 266
        },
        "outputId": "f07ef0bd-04be-4611-c268-8d0c53785c6d"
      },
      "source": [
        "import random\n",
        "import matplotlib.pyplot as plt\n",
        "\n",
        "def randomPekseg(p):\n",
        "    if random.random() < p:\n",
        "        return \"kakaós csiga\"\n",
        "    else:\n",
        "        return \"túrós táska\"\n",
        "#print(randomPekseg(0.20))\n",
        "\n",
        "\n",
        "def experiment(p, n):\n",
        "    return [randomPekseg(p) for i in range(n)]\n",
        "\n",
        "n = 10000\n",
        "p_values = [0.2, 0.4, 0.6, 0.8]\n",
        "\n",
        "for p in p_values:\n",
        "    results = experiment(p, n)\n",
        "    plt.hist(results, density=True, alpha=0.5, label=f\"p={p}\")\n",
        "\n",
        "plt.legend()\n",
        "plt.show()"
      ],
      "execution_count": null,
      "outputs": [
        {
          "output_type": "display_data",
          "data": {
            "text/plain": [
              "<Figure size 432x288 with 1 Axes>"
            ],
            "image/png": "[encoded data removed]"
          },
          "metadata": {
            "needs_background": "light"
          }
        }
      ]
    }
  ]
}